{
  "cells": [
    {
      "cell_type": "code",
      "execution_count": null,
      "metadata": {
        "id": "9Luvr5mg72jn"
      },
      "outputs": [],
      "source": [
        "import pandas as pd\n",
        "import random\n",
        "import numpy as np\n",
        "import matplotlib.pyplot as plt\n",
        "import tensorflow as tf\n",
        "\n",
        "from sklearn.ensemble import RandomForestRegressor"
      ]
    },
    {
      "cell_type": "code",
      "execution_count": null,
      "metadata": {
        "colab": {
          "base_uri": "https://localhost:8080/",
          "height": 560
        },
        "id": "ffclRRHzqxYO",
        "outputId": "4f9f1ffd-3659-4c28-c784-df0c168b6bf1"
      },
      "outputs": [
        {
          "output_type": "execute_result",
          "data": {
            "text/plain": [
              "                         Time  BTC / Realized Market Cap (USD)  \\\n",
              "11  2015-01-02 00:00:00+00:00                     4.380329e+09   \n",
              "12  2015-01-03 00:00:00+00:00                     4.370060e+09   \n",
              "13  2015-01-04 00:00:00+00:00                     4.362259e+09   \n",
              "14  2015-01-05 00:00:00+00:00                     4.354468e+09   \n",
              "15  2015-01-06 00:00:00+00:00                     4.355354e+09   \n",
              "\n",
              "    BTC / Free Float MVRV (Free Float Market Cap / Realized Market Cap)  \\\n",
              "11                                           0.907480                     \n",
              "12                                           0.822495                     \n",
              "13                                           0.759694                     \n",
              "14                                           0.794828                     \n",
              "15                                           0.831005                     \n",
              "\n",
              "    BTC / MVRV (Market Cap / Realized Market Cap)  BTC / 30 Day Volatility  \\\n",
              "11                                       0.986687                 0.024736   \n",
              "12                                       0.894436                 0.030157   \n",
              "13                                       0.826303                 0.032231   \n",
              "14                                       0.864709                 0.033784   \n",
              "15                                       0.904234                 0.035164   \n",
              "\n",
              "    BTC / ROI, 30 Days  BTC / Coinbase Issuance (native units)  \\\n",
              "11          -15.953906                                  4125.0   \n",
              "12          -22.556394                                  4050.0   \n",
              "13          -30.413620                                  4300.0   \n",
              "14          -26.692607                                  3900.0   \n",
              "15          -23.653972                                  3950.0   \n",
              "\n",
              "    BTC / Coinbase Issuance (USD)  BTC / 1 Day Active Supply  \\\n",
              "11                   1.303264e+06              137663.405201   \n",
              "12                   1.156872e+06              257074.146156   \n",
              "13                   1.132339e+06              293260.380176   \n",
              "14                   1.072515e+06              302023.678992   \n",
              "15                   1.135821e+06              300744.915429   \n",
              "\n",
              "    BTC / 7 Day Active Supply  ...  price_open_lag_10  price_high_lag_10  \\\n",
              "11              651008.473937  ...              340.0              340.0   \n",
              "12              709671.907761  ...              340.0              340.0   \n",
              "13              752020.561493  ...              340.0              340.0   \n",
              "14              796504.613354  ...              340.0              340.0   \n",
              "15              825215.006047  ...              340.0              340.0   \n",
              "\n",
              "    price_low_lag_10  volume_lag_10  candle_usd_volume_lag_10  \\\n",
              "11             340.0            0.0                       0.0   \n",
              "12             340.0            0.0                       0.0   \n",
              "13             340.0            0.0                       0.0   \n",
              "14             340.0            0.0                       0.0   \n",
              "15             340.0            0.0                       0.0   \n",
              "\n",
              "    candle_trades_count_lag_10  BTC / Exchange net flows (USD) _lag_10  \\\n",
              "11                         0.0                           -1.878642e+07   \n",
              "12                         0.0                            2.194611e+06   \n",
              "13                         0.0                            3.149142e+06   \n",
              "14                         0.0                           -2.298005e+06   \n",
              "15                         0.0                           -2.406265e+05   \n",
              "\n",
              "    BTC_daily_price_range_lag_10  BTC_price_lag_10  BTC_price  \n",
              "11                          -0.0             340.0      340.0  \n",
              "12                          -0.0             340.0      340.0  \n",
              "13                          -0.0             340.0      340.0  \n",
              "14                          -0.0             340.0      340.0  \n",
              "15                          -0.0             340.0      340.0  \n",
              "\n",
              "[5 rows x 857 columns]"
            ],
            "text/html": [
              "\n",
              "  <div id=\"df-8cf978fe-78b8-4905-90e9-b971f126d3b4\">\n",
              "    <div class=\"colab-df-container\">\n",
              "      <div>\n",
              "<style scoped>\n",
              "    .dataframe tbody tr th:only-of-type {\n",
              "        vertical-align: middle;\n",
              "    }\n",
              "\n",
              "    .dataframe tbody tr th {\n",
              "        vertical-align: top;\n",
              "    }\n",
              "\n",
              "    .dataframe thead th {\n",
              "        text-align: right;\n",
              "    }\n",
              "</style>\n",
              "<table border=\"1\" class=\"dataframe\">\n",
              "  <thead>\n",
              "    <tr style=\"text-align: right;\">\n",
              "      <th></th>\n",
              "      <th>Time</th>\n",
              "      <th>BTC / Realized Market Cap (USD)</th>\n",
              "      <th>BTC / Free Float MVRV (Free Float Market Cap / Realized Market Cap)</th>\n",
              "      <th>BTC / MVRV (Market Cap / Realized Market Cap)</th>\n",
              "      <th>BTC / 30 Day Volatility</th>\n",
              "      <th>BTC / ROI, 30 Days</th>\n",
              "      <th>BTC / Coinbase Issuance (native units)</th>\n",
              "      <th>BTC / Coinbase Issuance (USD)</th>\n",
              "      <th>BTC / 1 Day Active Supply</th>\n",
              "      <th>BTC / 7 Day Active Supply</th>\n",
              "      <th>...</th>\n",
              "      <th>price_open_lag_10</th>\n",
              "      <th>price_high_lag_10</th>\n",
              "      <th>price_low_lag_10</th>\n",
              "      <th>volume_lag_10</th>\n",
              "      <th>candle_usd_volume_lag_10</th>\n",
              "      <th>candle_trades_count_lag_10</th>\n",
              "      <th>BTC / Exchange net flows (USD) _lag_10</th>\n",
              "      <th>BTC_daily_price_range_lag_10</th>\n",
              "      <th>BTC_price_lag_10</th>\n",
              "      <th>BTC_price</th>\n",
              "    </tr>\n",
              "  </thead>\n",
              "  <tbody>\n",
              "    <tr>\n",
              "      <th>11</th>\n",
              "      <td>2015-01-02 00:00:00+00:00</td>\n",
              "      <td>4.380329e+09</td>\n",
              "      <td>0.907480</td>\n",
              "      <td>0.986687</td>\n",
              "      <td>0.024736</td>\n",
              "      <td>-15.953906</td>\n",
              "      <td>4125.0</td>\n",
              "      <td>1.303264e+06</td>\n",
              "      <td>137663.405201</td>\n",
              "      <td>651008.473937</td>\n",
              "      <td>...</td>\n",
              "      <td>340.0</td>\n",
              "      <td>340.0</td>\n",
              "      <td>340.0</td>\n",
              "      <td>0.0</td>\n",
              "      <td>0.0</td>\n",
              "      <td>0.0</td>\n",
              "      <td>-1.878642e+07</td>\n",
              "      <td>-0.0</td>\n",
              "      <td>340.0</td>\n",
              "      <td>340.0</td>\n",
              "    </tr>\n",
              "    <tr>\n",
              "      <th>12</th>\n",
              "      <td>2015-01-03 00:00:00+00:00</td>\n",
              "      <td>4.370060e+09</td>\n",
              "      <td>0.822495</td>\n",
              "      <td>0.894436</td>\n",
              "      <td>0.030157</td>\n",
              "      <td>-22.556394</td>\n",
              "      <td>4050.0</td>\n",
              "      <td>1.156872e+06</td>\n",
              "      <td>257074.146156</td>\n",
              "      <td>709671.907761</td>\n",
              "      <td>...</td>\n",
              "      <td>340.0</td>\n",
              "      <td>340.0</td>\n",
              "      <td>340.0</td>\n",
              "      <td>0.0</td>\n",
              "      <td>0.0</td>\n",
              "      <td>0.0</td>\n",
              "      <td>2.194611e+06</td>\n",
              "      <td>-0.0</td>\n",
              "      <td>340.0</td>\n",
              "      <td>340.0</td>\n",
              "    </tr>\n",
              "    <tr>\n",
              "      <th>13</th>\n",
              "      <td>2015-01-04 00:00:00+00:00</td>\n",
              "      <td>4.362259e+09</td>\n",
              "      <td>0.759694</td>\n",
              "      <td>0.826303</td>\n",
              "      <td>0.032231</td>\n",
              "      <td>-30.413620</td>\n",
              "      <td>4300.0</td>\n",
              "      <td>1.132339e+06</td>\n",
              "      <td>293260.380176</td>\n",
              "      <td>752020.561493</td>\n",
              "      <td>...</td>\n",
              "      <td>340.0</td>\n",
              "      <td>340.0</td>\n",
              "      <td>340.0</td>\n",
              "      <td>0.0</td>\n",
              "      <td>0.0</td>\n",
              "      <td>0.0</td>\n",
              "      <td>3.149142e+06</td>\n",
              "      <td>-0.0</td>\n",
              "      <td>340.0</td>\n",
              "      <td>340.0</td>\n",
              "    </tr>\n",
              "    <tr>\n",
              "      <th>14</th>\n",
              "      <td>2015-01-05 00:00:00+00:00</td>\n",
              "      <td>4.354468e+09</td>\n",
              "      <td>0.794828</td>\n",
              "      <td>0.864709</td>\n",
              "      <td>0.033784</td>\n",
              "      <td>-26.692607</td>\n",
              "      <td>3900.0</td>\n",
              "      <td>1.072515e+06</td>\n",
              "      <td>302023.678992</td>\n",
              "      <td>796504.613354</td>\n",
              "      <td>...</td>\n",
              "      <td>340.0</td>\n",
              "      <td>340.0</td>\n",
              "      <td>340.0</td>\n",
              "      <td>0.0</td>\n",
              "      <td>0.0</td>\n",
              "      <td>0.0</td>\n",
              "      <td>-2.298005e+06</td>\n",
              "      <td>-0.0</td>\n",
              "      <td>340.0</td>\n",
              "      <td>340.0</td>\n",
              "    </tr>\n",
              "    <tr>\n",
              "      <th>15</th>\n",
              "      <td>2015-01-06 00:00:00+00:00</td>\n",
              "      <td>4.355354e+09</td>\n",
              "      <td>0.831005</td>\n",
              "      <td>0.904234</td>\n",
              "      <td>0.035164</td>\n",
              "      <td>-23.653972</td>\n",
              "      <td>3950.0</td>\n",
              "      <td>1.135821e+06</td>\n",
              "      <td>300744.915429</td>\n",
              "      <td>825215.006047</td>\n",
              "      <td>...</td>\n",
              "      <td>340.0</td>\n",
              "      <td>340.0</td>\n",
              "      <td>340.0</td>\n",
              "      <td>0.0</td>\n",
              "      <td>0.0</td>\n",
              "      <td>0.0</td>\n",
              "      <td>-2.406265e+05</td>\n",
              "      <td>-0.0</td>\n",
              "      <td>340.0</td>\n",
              "      <td>340.0</td>\n",
              "    </tr>\n",
              "  </tbody>\n",
              "</table>\n",
              "<p>5 rows × 857 columns</p>\n",
              "</div>\n",
              "      <button class=\"colab-df-convert\" onclick=\"convertToInteractive('df-8cf978fe-78b8-4905-90e9-b971f126d3b4')\"\n",
              "              title=\"Convert this dataframe to an interactive table.\"\n",
              "              style=\"display:none;\">\n",
              "        \n",
              "  <svg xmlns=\"http://www.w3.org/2000/svg\" height=\"24px\"viewBox=\"0 0 24 24\"\n",
              "       width=\"24px\">\n",
              "    <path d=\"M0 0h24v24H0V0z\" fill=\"none\"/>\n",
              "    <path d=\"M18.56 5.44l.94 2.06.94-2.06 2.06-.94-2.06-.94-.94-2.06-.94 2.06-2.06.94zm-11 1L8.5 8.5l.94-2.06 2.06-.94-2.06-.94L8.5 2.5l-.94 2.06-2.06.94zm10 10l.94 2.06.94-2.06 2.06-.94-2.06-.94-.94-2.06-.94 2.06-2.06.94z\"/><path d=\"M17.41 7.96l-1.37-1.37c-.4-.4-.92-.59-1.43-.59-.52 0-1.04.2-1.43.59L10.3 9.45l-7.72 7.72c-.78.78-.78 2.05 0 2.83L4 21.41c.39.39.9.59 1.41.59.51 0 1.02-.2 1.41-.59l7.78-7.78 2.81-2.81c.8-.78.8-2.07 0-2.86zM5.41 20L4 18.59l7.72-7.72 1.47 1.35L5.41 20z\"/>\n",
              "  </svg>\n",
              "      </button>\n",
              "      \n",
              "  <style>\n",
              "    .colab-df-container {\n",
              "      display:flex;\n",
              "      flex-wrap:wrap;\n",
              "      gap: 12px;\n",
              "    }\n",
              "\n",
              "    .colab-df-convert {\n",
              "      background-color: #E8F0FE;\n",
              "      border: none;\n",
              "      border-radius: 50%;\n",
              "      cursor: pointer;\n",
              "      display: none;\n",
              "      fill: #1967D2;\n",
              "      height: 32px;\n",
              "      padding: 0 0 0 0;\n",
              "      width: 32px;\n",
              "    }\n",
              "\n",
              "    .colab-df-convert:hover {\n",
              "      background-color: #E2EBFA;\n",
              "      box-shadow: 0px 1px 2px rgba(60, 64, 67, 0.3), 0px 1px 3px 1px rgba(60, 64, 67, 0.15);\n",
              "      fill: #174EA6;\n",
              "    }\n",
              "\n",
              "    [theme=dark] .colab-df-convert {\n",
              "      background-color: #3B4455;\n",
              "      fill: #D2E3FC;\n",
              "    }\n",
              "\n",
              "    [theme=dark] .colab-df-convert:hover {\n",
              "      background-color: #434B5C;\n",
              "      box-shadow: 0px 1px 3px 1px rgba(0, 0, 0, 0.15);\n",
              "      filter: drop-shadow(0px 1px 2px rgba(0, 0, 0, 0.3));\n",
              "      fill: #FFFFFF;\n",
              "    }\n",
              "  </style>\n",
              "\n",
              "      <script>\n",
              "        const buttonEl =\n",
              "          document.querySelector('#df-8cf978fe-78b8-4905-90e9-b971f126d3b4 button.colab-df-convert');\n",
              "        buttonEl.style.display =\n",
              "          google.colab.kernel.accessAllowed ? 'block' : 'none';\n",
              "\n",
              "        async function convertToInteractive(key) {\n",
              "          const element = document.querySelector('#df-8cf978fe-78b8-4905-90e9-b971f126d3b4');\n",
              "          const dataTable =\n",
              "            await google.colab.kernel.invokeFunction('convertToInteractive',\n",
              "                                                     [key], {});\n",
              "          if (!dataTable) return;\n",
              "\n",
              "          const docLinkHtml = 'Like what you see? Visit the ' +\n",
              "            '<a target=\"_blank\" href=https://colab.research.google.com/notebooks/data_table.ipynb>data table notebook</a>'\n",
              "            + ' to learn more about interactive tables.';\n",
              "          element.innerHTML = '';\n",
              "          dataTable['output_type'] = 'display_data';\n",
              "          await google.colab.output.renderOutput(dataTable, element);\n",
              "          const docLink = document.createElement('div');\n",
              "          docLink.innerHTML = docLinkHtml;\n",
              "          element.appendChild(docLink);\n",
              "        }\n",
              "      </script>\n",
              "    </div>\n",
              "  </div>\n",
              "  "
            ]
          },
          "metadata": {},
          "execution_count": 2
        }
      ],
      "source": [
        "# reading \"btc_final.csv\" file\n",
        "df = pd.read_csv(\"btc_final.csv\" , index_col=0)\n",
        "df.head()"
      ]
    },
    {
      "cell_type": "code",
      "execution_count": null,
      "metadata": {
        "id": "EGi1H6UlG7Sx"
      },
      "outputs": [],
      "source": [
        "# dropping \"Time\" column\n",
        "df_final=df.drop('Time',axis=1)"
      ]
    },
    {
      "cell_type": "code",
      "source": [
        "# checking the dataFrame shape\n",
        "df_final.shape"
      ],
      "metadata": {
        "colab": {
          "base_uri": "https://localhost:8080/"
        },
        "id": "ja2PXi7qSDUP",
        "outputId": "bae9bed4-e3e4-4fa4-feda-8a7a9bcf230e"
      },
      "execution_count": null,
      "outputs": [
        {
          "output_type": "execute_result",
          "data": {
            "text/plain": [
              "(2645, 856)"
            ]
          },
          "metadata": {},
          "execution_count": 23
        }
      ]
    },
    {
      "cell_type": "code",
      "execution_count": null,
      "metadata": {
        "id": "erFKkHiHkD-X"
      },
      "outputs": [],
      "source": [
        "correlation = df_final.corr()"
      ]
    },
    {
      "cell_type": "code",
      "execution_count": null,
      "metadata": {
        "id": "FF61rbDEklzy"
      },
      "outputs": [],
      "source": [
        "# keeping the features that has a high correlation with our target\n",
        "correlation_threshold = 0.4\n",
        "\n",
        "positive_correlation = correlation[correlation['BTC_price']>=correlation_threshold].sort_values('BTC_price',ascending=False)['BTC_price']\n",
        "negative_correlation = correlation[correlation['BTC_price']<=-correlation_threshold].sort_values('BTC_price',ascending=True)['BTC_price']"
      ]
    },
    {
      "cell_type": "code",
      "execution_count": null,
      "metadata": {
        "colab": {
          "base_uri": "https://localhost:8080/",
          "height": 260
        },
        "id": "V28-8_sh4ZVZ",
        "outputId": "107ce3f5-ef35-440d-c7f6-89543a96e5c8"
      },
      "outputs": [
        {
          "output_type": "display_data",
          "data": {
            "text/plain": [
              "BTC_price                                                                    1.000000\n",
              "price_high                                                                   0.999475\n",
              "price_low                                                                    0.999311\n",
              "price_open                                                                   0.998794\n",
              "BTC_price_lag_1                                                              0.998794\n",
              "                                                                               ...   \n",
              "BTC / Free Float MVRV (Free Float Market Cap / Realized Market Cap)_lag_1    0.425089\n",
              "BTC / Difficulty_roll_std14                                                  0.424540\n",
              "BTC / Free Float MVRV (Free Float Market Cap / Realized Market Cap)          0.424331\n",
              "BTC / NVT_MA14                                                               0.418742\n",
              "BTC / NVT_MA7                                                                0.407072\n",
              "Name: BTC_price, Length: 323, dtype: float64"
            ]
          },
          "metadata": {}
        },
        {
          "output_type": "stream",
          "name": "stdout",
          "text": [
            "\n",
            " number of positively correlated features with btc price 323\n"
          ]
        }
      ],
      "source": [
        "display(positive_correlation)\n",
        "print('\\n','number of positively correlated features with btc price' , len(positive_correlation))"
      ]
    },
    {
      "cell_type": "code",
      "execution_count": null,
      "metadata": {
        "colab": {
          "base_uri": "https://localhost:8080/",
          "height": 260
        },
        "id": "_fXalbJKkJBQ",
        "outputId": "95612acb-abd5-412c-af91-99eb09a53b2b"
      },
      "outputs": [
        {
          "output_type": "display_data",
          "data": {
            "text/plain": [
              "BTC / Realized Market Cap (USD)_diff_roll_std7_roll_std21   -0.651528\n",
              "BTC / Coinbase Issuance (native units)_MA21                 -0.636356\n",
              "BTC / Coinbase Issuance (native units)_MA14                 -0.633189\n",
              "BTC / Coinbase Issuance (native units)_MA7                  -0.629514\n",
              "BTC / Coinbase Issuance (native units)_lag_10               -0.621650\n",
              "                                                               ...   \n",
              "price_low_diff_roll_std14_roll_std21                        -0.454270\n",
              "price_high_diff_roll_std14_roll_std21                       -0.449460\n",
              "BTC_price_diff_roll_std14_roll_std21                        -0.448123\n",
              "price_open_diff_roll_std14_roll_std21                       -0.447897\n",
              "BTC / Exchange net flows (USD) _MA21                        -0.410338\n",
              "Name: BTC_price, Length: 64, dtype: float64"
            ]
          },
          "metadata": {}
        },
        {
          "output_type": "stream",
          "name": "stdout",
          "text": [
            "\n",
            " number of negatively correlated features with btc price 64\n"
          ]
        }
      ],
      "source": [
        "display(negative_correlation)\n",
        "print('\\n','number of negatively correlated features with btc price' , len(negative_correlation))"
      ]
    },
    {
      "cell_type": "code",
      "source": [
        "df_final = df_final[list(positive_correlation.index.values)+list(negative_correlation.index.values)]"
      ],
      "metadata": {
        "id": "okSefjlseh6J"
      },
      "execution_count": null,
      "outputs": []
    },
    {
      "cell_type": "code",
      "source": [
        "# let's replace BTC_price in the last position again\n",
        "target = df_final.pop('BTC_price')\n",
        "df_final = pd.concat([df_final,target],axis=1)"
      ],
      "metadata": {
        "id": "9Z_IqK8Ng9yw"
      },
      "execution_count": null,
      "outputs": []
    },
    {
      "cell_type": "markdown",
      "metadata": {
        "id": "0BTUnlL12cdG"
      },
      "source": [
        "# defining Random Forest Algorithm parameters"
      ]
    },
    {
      "cell_type": "markdown",
      "metadata": {
        "id": "acdnrzHxtpiI"
      },
      "source": [
        "using Random Forest algorithm in Scikit-Learn package: [RandomForestRegressor](https://scikit-learn.org/stable/modules/generated/sklearn.ensemble.RandomForestRegressor.html) "
      ]
    },
    {
      "cell_type": "code",
      "execution_count": null,
      "metadata": {
        "colab": {
          "base_uri": "https://localhost:8080/"
        },
        "id": "Jq4nm1qa3GPq",
        "outputId": "ab650e72-1c5e-4f93-f297-b8e5e7432300"
      },
      "outputs": [
        {
          "output_type": "execute_result",
          "data": {
            "text/plain": [
              "(2644, 386)"
            ]
          },
          "metadata": {},
          "execution_count": 30
        }
      ],
      "source": [
        "# setting the variables (from record 1 to n-1)\n",
        "X = df_final.iloc[:-1,0:-1]\n",
        "X.shape"
      ]
    },
    {
      "cell_type": "code",
      "execution_count": null,
      "metadata": {
        "colab": {
          "base_uri": "https://localhost:8080/"
        },
        "id": "WfrqueEuP5cr",
        "outputId": "8f62e91f-3bcb-4245-8882-0a0566aab0d1"
      },
      "outputs": [
        {
          "output_type": "execute_result",
          "data": {
            "text/plain": [
              "(2644, 1)"
            ]
          },
          "metadata": {},
          "execution_count": 31
        }
      ],
      "source": [
        "# setting the target (from record 2 to n)\n",
        "Y = df_final.iloc[1:,-1:]\n",
        "Y.shape"
      ]
    },
    {
      "cell_type": "markdown",
      "metadata": {
        "id": "lGboTbqX2vaX"
      },
      "source": [
        "### Choosing best n_estimators value"
      ]
    },
    {
      "cell_type": "markdown",
      "metadata": {
        "id": "UAUyNpNJQF9r"
      },
      "source": [
        "Some of the [RandomForestRegressor](https://scikit-learn.org/stable/modules/generated/sklearn.ensemble.RandomForestRegressor.html) parameters:\n",
        " - **n_estimators** : number of trees that are used\n",
        " - **bootstrap** : Boolean value to wether or not use boostrapping, if False all the trees are going to use the same dataset.  \n",
        " - **oob_score** : Choice to use out-of-bag samples to calculate the average score of the predictions (only usable if the bootstrap option is activated)\n",
        " - **max_sample** : If the bootstrap is activated, allows to choose the number of samples to take in the initial dataset to build each estimator.  \n",
        " - **max_features** : The number of data taken randomly to cut out a node of the tree (mtry)"
      ]
    },
    {
      "cell_type": "markdown",
      "metadata": {
        "id": "99HZU2Fn8gcD"
      },
      "source": [
        "We start by looking at how the OOB score evolves over  40 trials with an increasing number of trees, while keeping a default value of mtry (square root of the number of variables in classification and number of variables divided by 3 in regression). We will choose the number of trees such that it is minimal and that the OOB score is stabilized. "
      ]
    },
    {
      "cell_type": "code",
      "execution_count": null,
      "metadata": {
        "colab": {
          "base_uri": "https://localhost:8080/"
        },
        "id": "F8nkYhBd21Vo",
        "outputId": "53865af4-6d9c-4065-dd36-87aad75d67b5"
      },
      "outputs": [
        {
          "output_type": "stream",
          "name": "stdout",
          "text": [
            "#Trees : 50\n",
            "#Trees : 176\n",
            "#Trees : 303\n",
            "#Trees : 430\n",
            "#Trees : 557\n",
            "#Trees : 684\n",
            "#Trees : 811\n",
            "#Trees : 938\n",
            "#Trees : 1065\n",
            "#Trees : 1192\n",
            "#Trees : 1319\n",
            "#Trees : 1446\n",
            "#Trees : 1573\n",
            "#Trees : 1700\n",
            "#Trees : 1826\n",
            "#Trees : 1953\n",
            "#Trees : 2080\n",
            "#Trees : 2207\n",
            "#Trees : 2334\n",
            "#Trees : 2461\n",
            "#Trees : 2588\n",
            "#Trees : 2715\n",
            "#Trees : 2842\n",
            "#Trees : 2969\n",
            "#Trees : 3096\n",
            "#Trees : 3223\n",
            "#Trees : 3350\n",
            "#Trees : 3476\n",
            "#Trees : 3603\n",
            "#Trees : 3730\n",
            "#Trees : 3857\n",
            "#Trees : 3984\n",
            "#Trees : 4111\n",
            "#Trees : 4238\n",
            "#Trees : 4365\n",
            "#Trees : 4492\n",
            "#Trees : 4619\n",
            "#Trees : 4746\n",
            "#Trees : 4873\n",
            "#Trees : 5000\n"
          ]
        }
      ],
      "source": [
        "# Data information\n",
        "n = X.shape[0]              # number of records\n",
        "p = X.shape[1]                # number of variables\n",
        "\n",
        "n_trees_max = 5000\n",
        "\n",
        "n_trees = np.linspace(50,n_trees_max,40).astype(np.int32)\n",
        "mtry = p/3\n",
        "OOB_err = []\n",
        "\n",
        "for i in n_trees:\n",
        "  print(\"#Trees : %d\" %i)\n",
        "  clf = RandomForestRegressor(n_estimators=i, bootstrap=True, oob_score=True, max_samples = n, max_features = int(mtry), n_jobs=-1)\n",
        "  clf.fit(X,tf.squeeze(np.asarray(Y),1))\n",
        "  OOB_err.append(1 - clf.oob_score_)"
      ]
    },
    {
      "cell_type": "code",
      "execution_count": null,
      "metadata": {
        "colab": {
          "base_uri": "https://localhost:8080/",
          "height": 282
        },
        "id": "he6wWnD7QT6v",
        "outputId": "44a901ce-a56c-4505-f0af-1436f66d795c"
      },
      "outputs": [
        {
          "output_type": "execute_result",
          "data": {
            "text/plain": [
              "[<matplotlib.lines.Line2D at 0x7f86cfcf5790>]"
            ]
          },
          "metadata": {},
          "execution_count": 33
        },
        {
          "output_type": "display_data",
          "data": {
            "text/plain": [
              "<Figure size 432x288 with 1 Axes>"
            ],
            "image/png": "[encoded data removed]"
          },
          "metadata": {
            "needs_background": "light"
          }
        }
      ],
      "source": [
        "plt.plot(n_trees,OOB_err)"
      ]
    },
    {
      "cell_type": "markdown",
      "metadata": {
        "id": "yvud1pMdD11z"
      },
      "source": [
        "from 1000 trees OOB_err is stabilizing so this our best n_estimators"
      ]
    },
    {
      "cell_type": "markdown",
      "metadata": {
        "id": "ZMGHoJQA67Wf"
      },
      "source": [
        "### choosing best max_features value"
      ]
    },
    {
      "cell_type": "markdown",
      "metadata": {
        "id": "bHdRqgSy8GMu"
      },
      "source": [
        "We look at how the OOB score evolves over 40 trials with a number of trees fixed at the value found previously, then by varying the value of mtry from fourth of its default value to its maximum possible. We will choose the value of mtry such that it is minimal and that the OOB score is stabilized.  "
      ]
    },
    {
      "cell_type": "code",
      "execution_count": null,
      "metadata": {
        "colab": {
          "base_uri": "https://localhost:8080/"
        },
        "id": "spNaZJCV7s39",
        "outputId": "cfc54ee4-8e7d-41b4-9b64-cbae1834b487"
      },
      "outputs": [
        {
          "output_type": "stream",
          "name": "stdout",
          "text": [
            "mtry = 2\n",
            "mtry = 9\n",
            "mtry = 17\n",
            "mtry = 25\n",
            "mtry = 33\n",
            "mtry = 41\n",
            "mtry = 49\n",
            "mtry = 56\n",
            "mtry = 64\n",
            "mtry = 72\n",
            "mtry = 80\n",
            "mtry = 88\n",
            "mtry = 96\n",
            "mtry = 103\n",
            "mtry = 111\n",
            "mtry = 119\n",
            "mtry = 127\n",
            "mtry = 135\n",
            "mtry = 143\n",
            "mtry = 150\n",
            "mtry = 158\n",
            "mtry = 166\n",
            "mtry = 174\n",
            "mtry = 182\n",
            "mtry = 190\n",
            "mtry = 197\n",
            "mtry = 205\n",
            "mtry = 213\n",
            "mtry = 221\n",
            "mtry = 229\n",
            "mtry = 237\n",
            "mtry = 244\n",
            "mtry = 252\n",
            "mtry = 260\n",
            "mtry = 268\n",
            "mtry = 276\n",
            "mtry = 284\n",
            "mtry = 291\n",
            "mtry = 299\n",
            "mtry = 307\n",
            "mtry = 315\n",
            "mtry = 323\n",
            "mtry = 331\n",
            "mtry = 338\n",
            "mtry = 346\n",
            "mtry = 354\n",
            "mtry = 362\n",
            "mtry = 370\n",
            "mtry = 378\n",
            "mtry = 386\n"
          ]
        }
      ],
      "source": [
        "# Data information\n",
        "n = X.shape[0]              # number of records\n",
        "p = X.shape[1]                # number of variables\n",
        "\n",
        "n_trees = 1000\n",
        "mtry_0 = 2 #np.int32(0.25*(p/3))\n",
        "\n",
        "m_try = np.linspace(mtry_0,p,50).astype(np.int32)\n",
        "\n",
        "OOB_err = []\n",
        "\n",
        "for i in m_try:\n",
        "   print(\"mtry = %s\" %i)\n",
        "   clf = RandomForestRegressor(n_estimators=n_trees, bootstrap=True, oob_score=True, max_features=i, n_jobs=-1)\n",
        "   clf.fit(X,tf.squeeze(np.asarray(Y),1))\n",
        "   OOB_err.append(1 - clf.oob_score_)"
      ]
    },
    {
      "cell_type": "code",
      "execution_count": null,
      "metadata": {
        "colab": {
          "base_uri": "https://localhost:8080/",
          "height": 282
        },
        "id": "PelImKIKXDwq",
        "outputId": "98ed04c6-4ebc-43f4-976c-3cb6923a14a1"
      },
      "outputs": [
        {
          "output_type": "execute_result",
          "data": {
            "text/plain": [
              "[<matplotlib.lines.Line2D at 0x7f86c9b50690>]"
            ]
          },
          "metadata": {},
          "execution_count": 35
        },
        {
          "output_type": "display_data",
          "data": {
            "text/plain": [
              "<Figure size 432x288 with 1 Axes>"
            ],
            "image/png": "[encoded data removed]"
          },
          "metadata": {
            "needs_background": "light"
          }
        }
      ],
      "source": [
        "plt.plot(m_try,OOB_err)"
      ]
    },
    {
      "cell_type": "code",
      "execution_count": null,
      "metadata": {
        "id": "Z_3rLXgLUwpc"
      },
      "outputs": [],
      "source": [
        "OOB_error = pd.DataFrame({'n_features':m_try,'OOB':OOB_err})"
      ]
    },
    {
      "cell_type": "code",
      "execution_count": null,
      "metadata": {
        "colab": {
          "base_uri": "https://localhost:8080/",
          "height": 81
        },
        "id": "6LDRPrJRVSck",
        "outputId": "7c689e15-87de-453f-bbf5-87b836b807ae"
      },
      "outputs": [
        {
          "output_type": "execute_result",
          "data": {
            "text/plain": [
              "   n_features       OOB\n",
              "4          33  0.002528"
            ],
            "text/html": [
              "\n",
              "  <div id=\"df-a0a5a88f-701a-41de-9bd6-283f9993760e\">\n",
              "    <div class=\"colab-df-container\">\n",
              "      <div>\n",
              "<style scoped>\n",
              "    .dataframe tbody tr th:only-of-type {\n",
              "        vertical-align: middle;\n",
              "    }\n",
              "\n",
              "    .dataframe tbody tr th {\n",
              "        vertical-align: top;\n",
              "    }\n",
              "\n",
              "    .dataframe thead th {\n",
              "        text-align: right;\n",
              "    }\n",
              "</style>\n",
              "<table border=\"1\" class=\"dataframe\">\n",
              "  <thead>\n",
              "    <tr style=\"text-align: right;\">\n",
              "      <th></th>\n",
              "      <th>n_features</th>\n",
              "      <th>OOB</th>\n",
              "    </tr>\n",
              "  </thead>\n",
              "  <tbody>\n",
              "    <tr>\n",
              "      <th>4</th>\n",
              "      <td>33</td>\n",
              "      <td>0.002528</td>\n",
              "    </tr>\n",
              "  </tbody>\n",
              "</table>\n",
              "</div>\n",
              "      <button class=\"colab-df-convert\" onclick=\"convertToInteractive('df-a0a5a88f-701a-41de-9bd6-283f9993760e')\"\n",
              "              title=\"Convert this dataframe to an interactive table.\"\n",
              "              style=\"display:none;\">\n",
              "        \n",
              "  <svg xmlns=\"http://www.w3.org/2000/svg\" height=\"24px\"viewBox=\"0 0 24 24\"\n",
              "       width=\"24px\">\n",
              "    <path d=\"M0 0h24v24H0V0z\" fill=\"none\"/>\n",
              "    <path d=\"M18.56 5.44l.94 2.06.94-2.06 2.06-.94-2.06-.94-.94-2.06-.94 2.06-2.06.94zm-11 1L8.5 8.5l.94-2.06 2.06-.94-2.06-.94L8.5 2.5l-.94 2.06-2.06.94zm10 10l.94 2.06.94-2.06 2.06-.94-2.06-.94-.94-2.06-.94 2.06-2.06.94z\"/><path d=\"M17.41 7.96l-1.37-1.37c-.4-.4-.92-.59-1.43-.59-.52 0-1.04.2-1.43.59L10.3 9.45l-7.72 7.72c-.78.78-.78 2.05 0 2.83L4 21.41c.39.39.9.59 1.41.59.51 0 1.02-.2 1.41-.59l7.78-7.78 2.81-2.81c.8-.78.8-2.07 0-2.86zM5.41 20L4 18.59l7.72-7.72 1.47 1.35L5.41 20z\"/>\n",
              "  </svg>\n",
              "      </button>\n",
              "      \n",
              "  <style>\n",
              "    .colab-df-container {\n",
              "      display:flex;\n",
              "      flex-wrap:wrap;\n",
              "      gap: 12px;\n",
              "    }\n",
              "\n",
              "    .colab-df-convert {\n",
              "      background-color: #E8F0FE;\n",
              "      border: none;\n",
              "      border-radius: 50%;\n",
              "      cursor: pointer;\n",
              "      display: none;\n",
              "      fill: #1967D2;\n",
              "      height: 32px;\n",
              "      padding: 0 0 0 0;\n",
              "      width: 32px;\n",
              "    }\n",
              "\n",
              "    .colab-df-convert:hover {\n",
              "      background-color: #E2EBFA;\n",
              "      box-shadow: 0px 1px 2px rgba(60, 64, 67, 0.3), 0px 1px 3px 1px rgba(60, 64, 67, 0.15);\n",
              "      fill: #174EA6;\n",
              "    }\n",
              "\n",
              "    [theme=dark] .colab-df-convert {\n",
              "      background-color: #3B4455;\n",
              "      fill: #D2E3FC;\n",
              "    }\n",
              "\n",
              "    [theme=dark] .colab-df-convert:hover {\n",
              "      background-color: #434B5C;\n",
              "      box-shadow: 0px 1px 3px 1px rgba(0, 0, 0, 0.15);\n",
              "      filter: drop-shadow(0px 1px 2px rgba(0, 0, 0, 0.3));\n",
              "      fill: #FFFFFF;\n",
              "    }\n",
              "  </style>\n",
              "\n",
              "      <script>\n",
              "        const buttonEl =\n",
              "          document.querySelector('#df-a0a5a88f-701a-41de-9bd6-283f9993760e button.colab-df-convert');\n",
              "        buttonEl.style.display =\n",
              "          google.colab.kernel.accessAllowed ? 'block' : 'none';\n",
              "\n",
              "        async function convertToInteractive(key) {\n",
              "          const element = document.querySelector('#df-a0a5a88f-701a-41de-9bd6-283f9993760e');\n",
              "          const dataTable =\n",
              "            await google.colab.kernel.invokeFunction('convertToInteractive',\n",
              "                                                     [key], {});\n",
              "          if (!dataTable) return;\n",
              "\n",
              "          const docLinkHtml = 'Like what you see? Visit the ' +\n",
              "            '<a target=\"_blank\" href=https://colab.research.google.com/notebooks/data_table.ipynb>data table notebook</a>'\n",
              "            + ' to learn more about interactive tables.';\n",
              "          element.innerHTML = '';\n",
              "          dataTable['output_type'] = 'display_data';\n",
              "          await google.colab.output.renderOutput(dataTable, element);\n",
              "          const docLink = document.createElement('div');\n",
              "          docLink.innerHTML = docLinkHtml;\n",
              "          element.appendChild(docLink);\n",
              "        }\n",
              "      </script>\n",
              "    </div>\n",
              "  </div>\n",
              "  "
            ]
          },
          "metadata": {},
          "execution_count": 37
        }
      ],
      "source": [
        "OOB_error[OOB_error['OOB']==OOB_error['OOB'].min()]"
      ]
    },
    {
      "cell_type": "markdown",
      "metadata": {
        "id": "2cZuYSbrQYtu"
      },
      "source": [
        "setting max_features value to 33"
      ]
    },
    {
      "cell_type": "markdown",
      "metadata": {
        "id": "R50LkwoXhA4Z"
      },
      "source": [
        "# Feature Importance: Importance without permutation (Gini Importance)"
      ]
    },
    {
      "cell_type": "markdown",
      "metadata": {
        "id": "LqhQIBES9oVw"
      },
      "source": [
        "**1. Training the Random Forest model**"
      ]
    },
    {
      "cell_type": "code",
      "execution_count": null,
      "metadata": {
        "colab": {
          "base_uri": "https://localhost:8080/"
        },
        "id": "iHyhGi8qhEEJ",
        "outputId": "45a83396-c03b-4ab7-b57b-426fee2b4139"
      },
      "outputs": [
        {
          "output_type": "execute_result",
          "data": {
            "text/plain": [
              "RandomForestRegressor(max_features=33, n_estimators=1000, n_jobs=-1,\n",
              "                      oob_score=True)"
            ]
          },
          "metadata": {},
          "execution_count": 39
        }
      ],
      "source": [
        "from sklearn.inspection import permutation_importance\n",
        "\n",
        "# Data information\n",
        "n = X.shape[0]             # number of records\n",
        "p = X.shape[1]               # number of variables\n",
        "n_trees = 1000\n",
        "m_try = 33\n",
        "\n",
        "clf = RandomForestRegressor(n_estimators=n_trees, bootstrap=True, oob_score=True, max_features=m_try, n_jobs=-1)\n",
        "clf.fit(X,tf.squeeze(np.asarray(Y),1))"
      ]
    },
    {
      "cell_type": "markdown",
      "metadata": {
        "id": "DeFCobxh9t7Z"
      },
      "source": [
        "**2. Displaying feature importance**"
      ]
    },
    {
      "cell_type": "code",
      "execution_count": null,
      "metadata": {
        "colab": {
          "base_uri": "https://localhost:8080/",
          "height": 424
        },
        "id": "hJqQQhlchR5w",
        "outputId": "d9a260ca-ab7e-4063-8cdf-b2f4a8885217"
      },
      "outputs": [
        {
          "output_type": "execute_result",
          "data": {
            "text/plain": [
              "                                                  cols      imps\n",
              "0                                            price_low  0.024417\n",
              "1                BTC / Realized Market Cap (USD)_lag_2  0.021107\n",
              "2    BTC / Val in Addrs w/ Bal ≥ 100 (native units)...  0.021074\n",
              "3                BTC / Realized Market Cap (USD)_lag_1  0.020288\n",
              "4                 BTC / Realized Market Cap (USD)_MA14  0.020229\n",
              "..                                                 ...       ...\n",
              "381                             BTC / Difficulty_lag_4  0.000007\n",
              "382                         BTC / Mean Hash Rate_lag_1  0.000006\n",
              "383       BTC / Coinbase Issuance (native units)_lag_2  0.000006\n",
              "384                            candle_usd_volume_lag_3  0.000006\n",
              "385                            candle_usd_volume_lag_4  0.000006\n",
              "\n",
              "[386 rows x 2 columns]"
            ],
            "text/html": [
              "\n",
              "  <div id=\"df-43ee90cf-48c6-4446-8015-35d2993a533b\">\n",
              "    <div class=\"colab-df-container\">\n",
              "      <div>\n",
              "<style scoped>\n",
              "    .dataframe tbody tr th:only-of-type {\n",
              "        vertical-align: middle;\n",
              "    }\n",
              "\n",
              "    .dataframe tbody tr th {\n",
              "        vertical-align: top;\n",
              "    }\n",
              "\n",
              "    .dataframe thead th {\n",
              "        text-align: right;\n",
              "    }\n",
              "</style>\n",
              "<table border=\"1\" class=\"dataframe\">\n",
              "  <thead>\n",
              "    <tr style=\"text-align: right;\">\n",
              "      <th></th>\n",
              "      <th>cols</th>\n",
              "      <th>imps</th>\n",
              "    </tr>\n",
              "  </thead>\n",
              "  <tbody>\n",
              "    <tr>\n",
              "      <th>0</th>\n",
              "      <td>price_low</td>\n",
              "      <td>0.024417</td>\n",
              "    </tr>\n",
              "    <tr>\n",
              "      <th>1</th>\n",
              "      <td>BTC / Realized Market Cap (USD)_lag_2</td>\n",
              "      <td>0.021107</td>\n",
              "    </tr>\n",
              "    <tr>\n",
              "      <th>2</th>\n",
              "      <td>BTC / Val in Addrs w/ Bal ≥ 100 (native units)...</td>\n",
              "      <td>0.021074</td>\n",
              "    </tr>\n",
              "    <tr>\n",
              "      <th>3</th>\n",
              "      <td>BTC / Realized Market Cap (USD)_lag_1</td>\n",
              "      <td>0.020288</td>\n",
              "    </tr>\n",
              "    <tr>\n",
              "      <th>4</th>\n",
              "      <td>BTC / Realized Market Cap (USD)_MA14</td>\n",
              "      <td>0.020229</td>\n",
              "    </tr>\n",
              "    <tr>\n",
              "      <th>...</th>\n",
              "      <td>...</td>\n",
              "      <td>...</td>\n",
              "    </tr>\n",
              "    <tr>\n",
              "      <th>381</th>\n",
              "      <td>BTC / Difficulty_lag_4</td>\n",
              "      <td>0.000007</td>\n",
              "    </tr>\n",
              "    <tr>\n",
              "      <th>382</th>\n",
              "      <td>BTC / Mean Hash Rate_lag_1</td>\n",
              "      <td>0.000006</td>\n",
              "    </tr>\n",
              "    <tr>\n",
              "      <th>383</th>\n",
              "      <td>BTC / Coinbase Issuance (native units)_lag_2</td>\n",
              "      <td>0.000006</td>\n",
              "    </tr>\n",
              "    <tr>\n",
              "      <th>384</th>\n",
              "      <td>candle_usd_volume_lag_3</td>\n",
              "      <td>0.000006</td>\n",
              "    </tr>\n",
              "    <tr>\n",
              "      <th>385</th>\n",
              "      <td>candle_usd_volume_lag_4</td>\n",
              "      <td>0.000006</td>\n",
              "    </tr>\n",
              "  </tbody>\n",
              "</table>\n",
              "<p>386 rows × 2 columns</p>\n",
              "</div>\n",
              "      <button class=\"colab-df-convert\" onclick=\"convertToInteractive('df-43ee90cf-48c6-4446-8015-35d2993a533b')\"\n",
              "              title=\"Convert this dataframe to an interactive table.\"\n",
              "              style=\"display:none;\">\n",
              "        \n",
              "  <svg xmlns=\"http://www.w3.org/2000/svg\" height=\"24px\"viewBox=\"0 0 24 24\"\n",
              "       width=\"24px\">\n",
              "    <path d=\"M0 0h24v24H0V0z\" fill=\"none\"/>\n",
              "    <path d=\"M18.56 5.44l.94 2.06.94-2.06 2.06-.94-2.06-.94-.94-2.06-.94 2.06-2.06.94zm-11 1L8.5 8.5l.94-2.06 2.06-.94-2.06-.94L8.5 2.5l-.94 2.06-2.06.94zm10 10l.94 2.06.94-2.06 2.06-.94-2.06-.94-.94-2.06-.94 2.06-2.06.94z\"/><path d=\"M17.41 7.96l-1.37-1.37c-.4-.4-.92-.59-1.43-.59-.52 0-1.04.2-1.43.59L10.3 9.45l-7.72 7.72c-.78.78-.78 2.05 0 2.83L4 21.41c.39.39.9.59 1.41.59.51 0 1.02-.2 1.41-.59l7.78-7.78 2.81-2.81c.8-.78.8-2.07 0-2.86zM5.41 20L4 18.59l7.72-7.72 1.47 1.35L5.41 20z\"/>\n",
              "  </svg>\n",
              "      </button>\n",
              "      \n",
              "  <style>\n",
              "    .colab-df-container {\n",
              "      display:flex;\n",
              "      flex-wrap:wrap;\n",
              "      gap: 12px;\n",
              "    }\n",
              "\n",
              "    .colab-df-convert {\n",
              "      background-color: #E8F0FE;\n",
              "      border: none;\n",
              "      border-radius: 50%;\n",
              "      cursor: pointer;\n",
              "      display: none;\n",
              "      fill: #1967D2;\n",
              "      height: 32px;\n",
              "      padding: 0 0 0 0;\n",
              "      width: 32px;\n",
              "    }\n",
              "\n",
              "    .colab-df-convert:hover {\n",
              "      background-color: #E2EBFA;\n",
              "      box-shadow: 0px 1px 2px rgba(60, 64, 67, 0.3), 0px 1px 3px 1px rgba(60, 64, 67, 0.15);\n",
              "      fill: #174EA6;\n",
              "    }\n",
              "\n",
              "    [theme=dark] .colab-df-convert {\n",
              "      background-color: #3B4455;\n",
              "      fill: #D2E3FC;\n",
              "    }\n",
              "\n",
              "    [theme=dark] .colab-df-convert:hover {\n",
              "      background-color: #434B5C;\n",
              "      box-shadow: 0px 1px 3px 1px rgba(0, 0, 0, 0.15);\n",
              "      filter: drop-shadow(0px 1px 2px rgba(0, 0, 0, 0.3));\n",
              "      fill: #FFFFFF;\n",
              "    }\n",
              "  </style>\n",
              "\n",
              "      <script>\n",
              "        const buttonEl =\n",
              "          document.querySelector('#df-43ee90cf-48c6-4446-8015-35d2993a533b button.colab-df-convert');\n",
              "        buttonEl.style.display =\n",
              "          google.colab.kernel.accessAllowed ? 'block' : 'none';\n",
              "\n",
              "        async function convertToInteractive(key) {\n",
              "          const element = document.querySelector('#df-43ee90cf-48c6-4446-8015-35d2993a533b');\n",
              "          const dataTable =\n",
              "            await google.colab.kernel.invokeFunction('convertToInteractive',\n",
              "                                                     [key], {});\n",
              "          if (!dataTable) return;\n",
              "\n",
              "          const docLinkHtml = 'Like what you see? Visit the ' +\n",
              "            '<a target=\"_blank\" href=https://colab.research.google.com/notebooks/data_table.ipynb>data table notebook</a>'\n",
              "            + ' to learn more about interactive tables.';\n",
              "          element.innerHTML = '';\n",
              "          dataTable['output_type'] = 'display_data';\n",
              "          await google.colab.output.renderOutput(dataTable, element);\n",
              "          const docLink = document.createElement('div');\n",
              "          docLink.innerHTML = docLinkHtml;\n",
              "          element.appendChild(docLink);\n",
              "        }\n",
              "      </script>\n",
              "    </div>\n",
              "  </div>\n",
              "  "
            ]
          },
          "metadata": {},
          "execution_count": 40
        }
      ],
      "source": [
        "col_sorted_by_importance=np.argsort(-clf.feature_importances_)\n",
        "\n",
        "feat_imp = pd.DataFrame({'cols':X.columns[col_sorted_by_importance],'imps':clf.feature_importances_[col_sorted_by_importance]}).sort_values(['imps'],ascending=False)\n",
        "feat_imp"
      ]
    },
    {
      "cell_type": "code",
      "execution_count": null,
      "metadata": {
        "id": "OZ9qGeLShWbZ"
      },
      "outputs": [],
      "source": [
        "!pip install plotly_express --upgrade -q"
      ]
    },
    {
      "cell_type": "code",
      "execution_count": null,
      "metadata": {
        "colab": {
          "base_uri": "https://localhost:8080/",
          "height": 542
        },
        "id": "lWyOziwshYoZ",
        "outputId": "10fce56c-2842-476f-b200-de315759769b"
      },
      "outputs": [
        {
          "output_type": "display_data",
          "data": {
            "text/html": [
              "<html>\n",
              "<head><meta charset=\"utf-8\" /></head>\n",
              "<body>\n",
              "    <div>            <script src=\"https://cdnjs.cloudflare.com/ajax/libs/mathjax/2.7.5/MathJax.js?config=TeX-AMS-MML_SVG\"></script><script type=\"text/javascript\">if (window.MathJax) {MathJax.Hub.Config({SVG: {font: \"STIX-Web\"}});}</script>                <script type=\"text/javascript\">window.PlotlyConfig = {MathJaxConfig: 'local'};</script>\n",
              "        <script src=\"https://cdn.plot.ly/plotly-2.8.3.min.js\"></script>                <div id=\"bf322f79-1c3e-4c7a-a23c-8a0edad09d9d\" class=\"plotly-graph-div\" style=\"height:525px; width:100%;\"></div>            <script type=\"text/javascript\">                                    window.PLOTLYENV=window.PLOTLYENV || {};                                    if (document.getElementById(\"bf322f79-1c3e-4c7a-a23c-8a0edad09d9d\")) {                    Plotly.newPlot(                        \"bf322f79-1c3e-4c7a-a23c-8a0edad09d9d\",                        [{\"alignmentgroup\":\"True\",\"hovertemplate\":\"column=%{x}<br>feature importance=%{y}<extra></extra>\",\"legendgroup\":\"\",\"marker\":{\"color\":\"#636efa\",\"pattern\":{\"shape\":\"\"}},\"name\":\"\",\"offsetgroup\":\"\",\"orientation\":\"v\",\"showlegend\":false,\"textposition\":\"auto\",\"x\":[\"price_low\",\"BTC / Realized Market Cap (USD)_lag_2\",\"BTC / Val in Addrs w/ Bal \\u2265 100 (native units)_lag_5\",\"BTC / Realized Market Cap (USD)_lag_1\",\"BTC / Realized Market Cap (USD)_MA14\",\"BTC / Realized Market Cap (USD)_lag_8\",\"BTC / Val in Addrs w/ Bal \\u2265 100 (native units)_lag_2\",\"BTC_price_MA7\",\"price_high_lag_6\",\"BTC / Val in Addrs w/ Bal \\u2265 100 (native units)_MA14\",\"BTC / Realized Market Cap (USD)_lag_3\",\"price_high\",\"BTC / Realized Market Cap (USD)_lag_4\",\"BTC / Realized Market Cap (USD)\",\"BTC / Realized Market Cap (USD)_lag_5\",\"BTC / Realized Market Cap (USD)_lag_7\",\"BTC / Realized Market Cap (USD)_MA21\",\"BTC / Val in Addrs w/ Bal \\u2265 100 (native units)_MA21\",\"price_high_MA7\",\"price_open_MA21\",\"BTC_price_lag_1\",\"price_open\",\"BTC_price_lag_8\",\"price_high_lag_8\",\"BTC / Realized Market Cap (USD)_lag_10\",\"BTC / Val in Addrs w/ Bal \\u2265 100 (native units)_MA7\",\"BTC / Val in Addrs w/ Bal \\u2265 100 (native units)_lag_6\",\"price_open_MA7\",\"BTC / Val in Addrs w/ Bal \\u2265 $10M USD_MA21\",\"BTC / Val in Addrs w/ Bal \\u2265 $10M USD\",\"BTC_price_lag_9\",\"BTC / Val in Addrs w/ Bal \\u2265 100 (native units)\",\"BTC / Val in Addrs w/ Bal \\u2265 $1M USD_lag_6\",\"price_low_lag_8\",\"BTC / Realized Market Cap (USD)_MA7\",\"BTC / Val in Addrs w/ Bal \\u2265 $1M USD_MA7\",\"price_open_lag_7\",\"BTC / Val in Addrs w/ Bal \\u2265 $1M USD_MA14\",\"BTC / Realized Market Cap (USD)_lag_6\",\"price_low_lag_1\",\"price_high_MA21\",\"BTC / Val in Addrs w/ Bal \\u2265 $10M USD_MA7\",\"price_high_MA14\",\"BTC_price_lag_7\",\"BTC_price_MA21\",\"price_low_lag_6\",\"BTC / Realized Market Cap (USD)_lag_9\",\"BTC / Val in Addrs w/ Bal \\u2265 100 (native units)_lag_4\",\"BTC / Val in Addrs w/ Bal \\u2265 100 (native units)_lag_7\",\"price_low_lag_9\",\"price_high_lag_1\",\"BTC / Val in Addrs w/ Bal \\u2265 $1M USD\",\"price_low_lag_2\",\"price_open_MA14\",\"price_low_MA14\",\"BTC / Val in Addrs w/ Bal \\u2265 $1M USD_MA21\",\"BTC / Val in Addrs w/ Bal \\u2265 $10M USD_lag_8\",\"BTC / Val in Addrs w/ Bal \\u2265 $10M USD_lag_10\",\"price_low_MA21\",\"price_low_lag_7\",\"price_open_lag_8\",\"BTC / Val in Addrs w/ Bal \\u2265 $1M USD_lag_8\",\"BTC / Val in Addrs w/ Bal \\u2265 $10M USD_lag_6\",\"BTC / Val in Addrs w/ Bal \\u2265 $1M USD_lag_7\",\"price_low_MA7\",\"price_open_lag_1\",\"price_open_lag_6\",\"BTC_price_lag_2\",\"BTC / Val in Addrs w/ Bal \\u2265 $10M USD_MA14\",\"BTC / Val in Addrs w/ Bal \\u2265 $10M USD_lag_5\",\"price_high_lag_9\",\"price_low_lag_10\",\"BTC / Val in Addrs w/ Bal \\u2265 $10M USD_lag_7\",\"BTC / Val in Addrs w/ Bal \\u2265 $10M USD_lag_9\",\"price_open_lag_5\",\"BTC / Val in Addrs w/ Bal \\u2265 $10M USD_lag_1\",\"BTC / Val in Addrs w/ Bal \\u2265 $10M USD_lag_2\",\"BTC_price_lag_10\",\"price_low_lag_3\",\"price_high_lag_10\",\"BTC / Val in Addrs w/ Bal \\u2265 100 (native units)_lag_3\",\"price_high_lag_2\",\"BTC / Val in Addrs w/ Bal \\u2265 $1M USD_lag_1\",\"BTC_price_lag_3\",\"price_high_lag_4\",\"BTC / Val in Addrs w/ Bal \\u2265 100 (native units)_lag_1\",\"BTC / Val in Addrs w/ Bal \\u2265 $1M USD_lag_9\",\"price_high_lag_5\",\"price_open_lag_2\",\"price_high_lag_7\",\"BTC_price_lag_5\",\"price_high_lag_3\",\"BTC_price_lag_6\",\"BTC_price_MA14\",\"BTC / Val in Addrs w/ Bal \\u2265 $10M USD_lag_3\",\"BTC / Val in Addrs w/ Bal \\u2265 $1M USD_lag_2\",\"BTC / Val in Addrs w/ Bal \\u2265 $1M USD_lag_5\",\"BTC / Val in Addrs w/ Bal \\u2265 100 (native units)_lag_8\",\"BTC / Val in Addrs w/ Bal \\u2265 $1M USD_lag_10\",\"price_low_lag_4\"],\"xaxis\":\"x\",\"y\":[0.024417375050640226,0.021107361224176117,0.021074290365053268,0.02028783912932329,0.020228972022502963,0.01941108925879852,0.01932561756135594,0.019265725009321055,0.019005986243738546,0.01846833084828299,0.01761650444770841,0.017322252593880285,0.01671989402602482,0.015908765724567054,0.01587784838229203,0.01587453591922923,0.014967603477266571,0.014932868849684368,0.014508057557509656,0.014228849721824633,0.013971411906215423,0.013870805896461228,0.013329234917812662,0.013237904744833537,0.013236313245996622,0.01318619192825128,0.01317920415432388,0.012637693617309983,0.012404611146896371,0.012358575204741066,0.012345642984020971,0.012343686082843353,0.012311369430965738,0.01146341971020523,0.011458268830867695,0.010631471322722073,0.010614102406417192,0.01059709003334125,0.010589776029663624,0.01024597556979028,0.00991391949379676,0.009874353895762491,0.009302332101292946,0.009005259429140273,0.008980330560133417,0.008974307864948992,0.008835318067269091,0.008801884552904106,0.008796263602651157,0.00878649352434342,0.008708273977438405,0.00850165945751627,0.008486565647708081,0.008460590019450084,0.008428987891265885,0.007975118805673073,0.007915618106613485,0.007895097195646709,0.007279942629924087,0.0071478136468692026,0.007087690892776114,0.007040970931316586,0.007020383662282173,0.007016553148887918,0.0069790791117456735,0.00639405070828938,0.006387573178933188,0.006370689860766003,0.006218112767872402,0.006203515018396582,0.006173591643762319,0.006170549336691749,0.006165804327485889,0.006162785298276515,0.0058591287761969235,0.005595382259336083,0.005538307692737618,0.005378925592472924,0.0053598816548532345,0.005338670019794919,0.0052899114732675775,0.004616381111347231,0.004609801615690439,0.004482269594337931,0.004457442753979249,0.004435121739349591,0.004401645293995167,0.00434885266093295,0.003805675442631581,0.0036758359991010173,0.003664366380592509,0.003360217334567042,0.0031411455884396483,0.0029581078745976237,0.002764064625991935,0.002737493658603066,0.0026792963670328944,0.0026450933111590883,0.0026448460404426047,0.0024402365524433672],\"yaxis\":\"y\",\"type\":\"bar\"}],                        {\"template\":{\"data\":{\"bar\":[{\"error_x\":{\"color\":\"#2a3f5f\"},\"error_y\":{\"color\":\"#2a3f5f\"},\"marker\":{\"line\":{\"color\":\"#E5ECF6\",\"width\":0.5},\"pattern\":{\"fillmode\":\"overlay\",\"size\":10,\"solidity\":0.2}},\"type\":\"bar\"}],\"barpolar\":[{\"marker\":{\"line\":{\"color\":\"#E5ECF6\",\"width\":0.5},\"pattern\":{\"fillmode\":\"overlay\",\"size\":10,\"solidity\":0.2}},\"type\":\"barpolar\"}],\"carpet\":[{\"aaxis\":{\"endlinecolor\":\"#2a3f5f\",\"gridcolor\":\"white\",\"linecolor\":\"white\",\"minorgridcolor\":\"white\",\"startlinecolor\":\"#2a3f5f\"},\"baxis\":{\"endlinecolor\":\"#2a3f5f\",\"gridcolor\":\"white\",\"linecolor\":\"white\",\"minorgridcolor\":\"white\",\"startlinecolor\":\"#2a3f5f\"},\"type\":\"carpet\"}],\"choropleth\":[{\"colorbar\":{\"outlinewidth\":0,\"ticks\":\"\"},\"type\":\"choropleth\"}],\"contour\":[{\"colorbar\":{\"outlinewidth\":0,\"ticks\":\"\"},\"colorscale\":[[0.0,\"#0d0887\"],[0.1111111111111111,\"#46039f\"],[0.2222222222222222,\"#7201a8\"],[0.3333333333333333,\"#9c179e\"],[0.4444444444444444,\"#bd3786\"],[0.5555555555555556,\"#d8576b\"],[0.6666666666666666,\"#ed7953\"],[0.7777777777777778,\"#fb9f3a\"],[0.8888888888888888,\"#fdca26\"],[1.0,\"#f0f921\"]],\"type\":\"contour\"}],\"contourcarpet\":[{\"colorbar\":{\"outlinewidth\":0,\"ticks\":\"\"},\"type\":\"contourcarpet\"}],\"heatmap\":[{\"colorbar\":{\"outlinewidth\":0,\"ticks\":\"\"},\"colorscale\":[[0.0,\"#0d0887\"],[0.1111111111111111,\"#46039f\"],[0.2222222222222222,\"#7201a8\"],[0.3333333333333333,\"#9c179e\"],[0.4444444444444444,\"#bd3786\"],[0.5555555555555556,\"#d8576b\"],[0.6666666666666666,\"#ed7953\"],[0.7777777777777778,\"#fb9f3a\"],[0.8888888888888888,\"#fdca26\"],[1.0,\"#f0f921\"]],\"type\":\"heatmap\"}],\"heatmapgl\":[{\"colorbar\":{\"outlinewidth\":0,\"ticks\":\"\"},\"colorscale\":[[0.0,\"#0d0887\"],[0.1111111111111111,\"#46039f\"],[0.2222222222222222,\"#7201a8\"],[0.3333333333333333,\"#9c179e\"],[0.4444444444444444,\"#bd3786\"],[0.5555555555555556,\"#d8576b\"],[0.6666666666666666,\"#ed7953\"],[0.7777777777777778,\"#fb9f3a\"],[0.8888888888888888,\"#fdca26\"],[1.0,\"#f0f921\"]],\"type\":\"heatmapgl\"}],\"histogram\":[{\"marker\":{\"pattern\":{\"fillmode\":\"overlay\",\"size\":10,\"solidity\":0.2}},\"type\":\"histogram\"}],\"histogram2d\":[{\"colorbar\":{\"outlinewidth\":0,\"ticks\":\"\"},\"colorscale\":[[0.0,\"#0d0887\"],[0.1111111111111111,\"#46039f\"],[0.2222222222222222,\"#7201a8\"],[0.3333333333333333,\"#9c179e\"],[0.4444444444444444,\"#bd3786\"],[0.5555555555555556,\"#d8576b\"],[0.6666666666666666,\"#ed7953\"],[0.7777777777777778,\"#fb9f3a\"],[0.8888888888888888,\"#fdca26\"],[1.0,\"#f0f921\"]],\"type\":\"histogram2d\"}],\"histogram2dcontour\":[{\"colorbar\":{\"outlinewidth\":0,\"ticks\":\"\"},\"colorscale\":[[0.0,\"#0d0887\"],[0.1111111111111111,\"#46039f\"],[0.2222222222222222,\"#7201a8\"],[0.3333333333333333,\"#9c179e\"],[0.4444444444444444,\"#bd3786\"],[0.5555555555555556,\"#d8576b\"],[0.6666666666666666,\"#ed7953\"],[0.7777777777777778,\"#fb9f3a\"],[0.8888888888888888,\"#fdca26\"],[1.0,\"#f0f921\"]],\"type\":\"histogram2dcontour\"}],\"mesh3d\":[{\"colorbar\":{\"outlinewidth\":0,\"ticks\":\"\"},\"type\":\"mesh3d\"}],\"parcoords\":[{\"line\":{\"colorbar\":{\"outlinewidth\":0,\"ticks\":\"\"}},\"type\":\"parcoords\"}],\"pie\":[{\"automargin\":true,\"type\":\"pie\"}],\"scatter\":[{\"marker\":{\"colorbar\":{\"outlinewidth\":0,\"ticks\":\"\"}},\"type\":\"scatter\"}],\"scatter3d\":[{\"line\":{\"colorbar\":{\"outlinewidth\":0,\"ticks\":\"\"}},\"marker\":{\"colorbar\":{\"outlinewidth\":0,\"ticks\":\"\"}},\"type\":\"scatter3d\"}],\"scattercarpet\":[{\"marker\":{\"colorbar\":{\"outlinewidth\":0,\"ticks\":\"\"}},\"type\":\"scattercarpet\"}],\"scattergeo\":[{\"marker\":{\"colorbar\":{\"outlinewidth\":0,\"ticks\":\"\"}},\"type\":\"scattergeo\"}],\"scattergl\":[{\"marker\":{\"colorbar\":{\"outlinewidth\":0,\"ticks\":\"\"}},\"type\":\"scattergl\"}],\"scattermapbox\":[{\"marker\":{\"colorbar\":{\"outlinewidth\":0,\"ticks\":\"\"}},\"type\":\"scattermapbox\"}],\"scatterpolar\":[{\"marker\":{\"colorbar\":{\"outlinewidth\":0,\"ticks\":\"\"}},\"type\":\"scatterpolar\"}],\"scatterpolargl\":[{\"marker\":{\"colorbar\":{\"outlinewidth\":0,\"ticks\":\"\"}},\"type\":\"scatterpolargl\"}],\"scatterternary\":[{\"marker\":{\"colorbar\":{\"outlinewidth\":0,\"ticks\":\"\"}},\"type\":\"scatterternary\"}],\"surface\":[{\"colorbar\":{\"outlinewidth\":0,\"ticks\":\"\"},\"colorscale\":[[0.0,\"#0d0887\"],[0.1111111111111111,\"#46039f\"],[0.2222222222222222,\"#7201a8\"],[0.3333333333333333,\"#9c179e\"],[0.4444444444444444,\"#bd3786\"],[0.5555555555555556,\"#d8576b\"],[0.6666666666666666,\"#ed7953\"],[0.7777777777777778,\"#fb9f3a\"],[0.8888888888888888,\"#fdca26\"],[1.0,\"#f0f921\"]],\"type\":\"surface\"}],\"table\":[{\"cells\":{\"fill\":{\"color\":\"#EBF0F8\"},\"line\":{\"color\":\"white\"}},\"header\":{\"fill\":{\"color\":\"#C8D4E3\"},\"line\":{\"color\":\"white\"}},\"type\":\"table\"}]},\"layout\":{\"annotationdefaults\":{\"arrowcolor\":\"#2a3f5f\",\"arrowhead\":0,\"arrowwidth\":1},\"autotypenumbers\":\"strict\",\"coloraxis\":{\"colorbar\":{\"outlinewidth\":0,\"ticks\":\"\"}},\"colorscale\":{\"diverging\":[[0,\"#8e0152\"],[0.1,\"#c51b7d\"],[0.2,\"#de77ae\"],[0.3,\"#f1b6da\"],[0.4,\"#fde0ef\"],[0.5,\"#f7f7f7\"],[0.6,\"#e6f5d0\"],[0.7,\"#b8e186\"],[0.8,\"#7fbc41\"],[0.9,\"#4d9221\"],[1,\"#276419\"]],\"sequential\":[[0.0,\"#0d0887\"],[0.1111111111111111,\"#46039f\"],[0.2222222222222222,\"#7201a8\"],[0.3333333333333333,\"#9c179e\"],[0.4444444444444444,\"#bd3786\"],[0.5555555555555556,\"#d8576b\"],[0.6666666666666666,\"#ed7953\"],[0.7777777777777778,\"#fb9f3a\"],[0.8888888888888888,\"#fdca26\"],[1.0,\"#f0f921\"]],\"sequentialminus\":[[0.0,\"#0d0887\"],[0.1111111111111111,\"#46039f\"],[0.2222222222222222,\"#7201a8\"],[0.3333333333333333,\"#9c179e\"],[0.4444444444444444,\"#bd3786\"],[0.5555555555555556,\"#d8576b\"],[0.6666666666666666,\"#ed7953\"],[0.7777777777777778,\"#fb9f3a\"],[0.8888888888888888,\"#fdca26\"],[1.0,\"#f0f921\"]]},\"colorway\":[\"#636efa\",\"#EF553B\",\"#00cc96\",\"#ab63fa\",\"#FFA15A\",\"#19d3f3\",\"#FF6692\",\"#B6E880\",\"#FF97FF\",\"#FECB52\"],\"font\":{\"color\":\"#2a3f5f\"},\"geo\":{\"bgcolor\":\"white\",\"lakecolor\":\"white\",\"landcolor\":\"#E5ECF6\",\"showlakes\":true,\"showland\":true,\"subunitcolor\":\"white\"},\"hoverlabel\":{\"align\":\"left\"},\"hovermode\":\"closest\",\"mapbox\":{\"style\":\"light\"},\"paper_bgcolor\":\"white\",\"plot_bgcolor\":\"#E5ECF6\",\"polar\":{\"angularaxis\":{\"gridcolor\":\"white\",\"linecolor\":\"white\",\"ticks\":\"\"},\"bgcolor\":\"#E5ECF6\",\"radialaxis\":{\"gridcolor\":\"white\",\"linecolor\":\"white\",\"ticks\":\"\"}},\"scene\":{\"xaxis\":{\"backgroundcolor\":\"#E5ECF6\",\"gridcolor\":\"white\",\"gridwidth\":2,\"linecolor\":\"white\",\"showbackground\":true,\"ticks\":\"\",\"zerolinecolor\":\"white\"},\"yaxis\":{\"backgroundcolor\":\"#E5ECF6\",\"gridcolor\":\"white\",\"gridwidth\":2,\"linecolor\":\"white\",\"showbackground\":true,\"ticks\":\"\",\"zerolinecolor\":\"white\"},\"zaxis\":{\"backgroundcolor\":\"#E5ECF6\",\"gridcolor\":\"white\",\"gridwidth\":2,\"linecolor\":\"white\",\"showbackground\":true,\"ticks\":\"\",\"zerolinecolor\":\"white\"}},\"shapedefaults\":{\"line\":{\"color\":\"#2a3f5f\"}},\"ternary\":{\"aaxis\":{\"gridcolor\":\"white\",\"linecolor\":\"white\",\"ticks\":\"\"},\"baxis\":{\"gridcolor\":\"white\",\"linecolor\":\"white\",\"ticks\":\"\"},\"bgcolor\":\"#E5ECF6\",\"caxis\":{\"gridcolor\":\"white\",\"linecolor\":\"white\",\"ticks\":\"\"}},\"title\":{\"x\":0.05},\"xaxis\":{\"automargin\":true,\"gridcolor\":\"white\",\"linecolor\":\"white\",\"ticks\":\"\",\"title\":{\"standoff\":15},\"zerolinecolor\":\"white\",\"zerolinewidth\":2},\"yaxis\":{\"automargin\":true,\"gridcolor\":\"white\",\"linecolor\":\"white\",\"ticks\":\"\",\"title\":{\"standoff\":15},\"zerolinecolor\":\"white\",\"zerolinewidth\":2}}},\"xaxis\":{\"anchor\":\"y\",\"domain\":[0.0,1.0],\"title\":{\"text\":\"column\"}},\"yaxis\":{\"anchor\":\"x\",\"domain\":[0.0,1.0],\"title\":{\"text\":\"feature importance\"}},\"legend\":{\"tracegroupgap\":0},\"margin\":{\"t\":60},\"barmode\":\"relative\"},                        {\"responsive\": true}                    ).then(function(){\n",
              "                            \n",
              "var gd = document.getElementById('bf322f79-1c3e-4c7a-a23c-8a0edad09d9d');\n",
              "var x = new MutationObserver(function (mutations, observer) {{\n",
              "        var display = window.getComputedStyle(gd).display;\n",
              "        if (!display || display === 'none') {{\n",
              "            console.log([gd, 'removed!']);\n",
              "            Plotly.purge(gd);\n",
              "            observer.disconnect();\n",
              "        }}\n",
              "}});\n",
              "\n",
              "// Listen for the removal of the full notebook cells\n",
              "var notebookContainer = gd.closest('#notebook-container');\n",
              "if (notebookContainer) {{\n",
              "    x.observe(notebookContainer, {childList: true});\n",
              "}}\n",
              "\n",
              "// Listen for the clearing of the current output cell\n",
              "var outputEl = gd.closest('.output');\n",
              "if (outputEl) {{\n",
              "    x.observe(outputEl, {childList: true});\n",
              "}}\n",
              "\n",
              "                        })                };                            </script>        </div>\n",
              "</body>\n",
              "</html>"
            ]
          },
          "metadata": {}
        }
      ],
      "source": [
        "import plotly_express as px\n",
        "import plotly.offline as po\n",
        "\n",
        "px.bar(feat_imp[:100], x='cols', y='imps', labels={'cols':'column', 'imps':'feature importance'})"
      ]
    },
    {
      "cell_type": "markdown",
      "source": [
        "the features that we retain with Gini importance are:\n",
        "- price open\n",
        "- price low\n",
        "- price high\n",
        "- realized market cap\n",
        "- value in addresses with value over 100 BTC\n",
        "- value in addresses with value over $1M\n",
        "- value in addresses with value over 10M\n",
        "\n",
        "the highest lag we have is 14, so we will build our model's train and test data with a window size of 14 timesteps\n",
        "\n",
        "\n"
      ],
      "metadata": {
        "id": "otFUbkxjdaoz"
      }
    },
    {
      "cell_type": "code",
      "source": [
        "df_selected_GI = df_final[['price_low' , 'price_high' , 'price_open' , 'BTC / Realized Market Cap (USD)' , \n",
        "                           'BTC / Val in Addrs w/ Bal ≥ 100 (native units)' , 'BTC / Val in Addrs w/ Bal ≥ $1M USD' ,\n",
        "                           'BTC / Val in Addrs w/ Bal ≥ $10M USD' , 'BTC_price']]"
      ],
      "metadata": {
        "id": "Q-ivZHQ3gbQK"
      },
      "execution_count": null,
      "outputs": []
    },
    {
      "cell_type": "code",
      "source": [
        "df_selected_GI"
      ],
      "metadata": {
        "colab": {
          "base_uri": "https://localhost:8080/",
          "height": 520
        },
        "id": "fiSJwidFhIE3",
        "outputId": "05a2a2c8-22f9-43cc-88b0-584dfe29814b"
      },
      "execution_count": null,
      "outputs": [
        {
          "output_type": "execute_result",
          "data": {
            "text/plain": [
              "      price_low  price_high  price_open  BTC / Realized Market Cap (USD)  \\\n",
              "11       340.00      340.00      340.00                     4.380329e+09   \n",
              "12       340.00      340.00      340.00                     4.370060e+09   \n",
              "13       340.00      340.00      340.00                     4.362259e+09   \n",
              "14       340.00      340.00      340.00                     4.354468e+09   \n",
              "15       340.00      340.00      340.00                     4.355354e+09   \n",
              "...         ...         ...         ...                              ...   \n",
              "2651   44091.09    44820.58    44336.19                     4.637621e+11   \n",
              "2652   44437.22    46950.00    44538.21                     4.645012e+11   \n",
              "2653   46662.28    48240.00    46850.01                     4.657595e+11   \n",
              "2654   46589.00    48124.94    47146.92                     4.667479e+11   \n",
              "2655   46544.89    47717.01    47448.41                     4.671434e+11   \n",
              "\n",
              "      BTC / Val in Addrs w/ Bal ≥ 100 (native units)  \\\n",
              "11                                      9.221014e+06   \n",
              "12                                      9.223876e+06   \n",
              "13                                      9.235230e+06   \n",
              "14                                      9.238207e+06   \n",
              "15                                      9.241839e+06   \n",
              "...                                              ...   \n",
              "2651                                    1.196295e+07   \n",
              "2652                                    1.196435e+07   \n",
              "2653                                    1.196048e+07   \n",
              "2654                                    1.195196e+07   \n",
              "2655                                    1.195079e+07   \n",
              "\n",
              "      BTC / Val in Addrs w/ Bal ≥ $1M USD  \\\n",
              "11                           4.145445e+06   \n",
              "12                           4.051809e+06   \n",
              "13                           4.025844e+06   \n",
              "14                           4.069146e+06   \n",
              "15                           4.107305e+06   \n",
              "...                                   ...   \n",
              "2651                         1.540448e+07   \n",
              "2652                         1.544393e+07   \n",
              "2653                         1.544759e+07   \n",
              "2654                         1.544114e+07   \n",
              "2655                         1.543379e+07   \n",
              "\n",
              "      BTC / Val in Addrs w/ Bal ≥ $10M USD  BTC_price  \n",
              "11                            1.924683e+06     340.00  \n",
              "12                            1.854669e+06     340.00  \n",
              "13                            1.820324e+06     340.00  \n",
              "14                            1.825637e+06     340.00  \n",
              "15                            1.860647e+06     340.00  \n",
              "...                                    ...        ...  \n",
              "2651                          1.085518e+07   44539.42  \n",
              "2652                          1.090280e+07   46850.01  \n",
              "2653                          1.090915e+07   47144.92  \n",
              "2654                          1.090427e+07   47454.19  \n",
              "2655                          1.089526e+07   47078.03  \n",
              "\n",
              "[2645 rows x 8 columns]"
            ],
            "text/html": [
              "\n",
              "  <div id=\"df-4edd0dc4-a30c-4316-bd76-d2c1cb85c270\">\n",
              "    <div class=\"colab-df-container\">\n",
              "      <div>\n",
              "<style scoped>\n",
              "    .dataframe tbody tr th:only-of-type {\n",
              "        vertical-align: middle;\n",
              "    }\n",
              "\n",
              "    .dataframe tbody tr th {\n",
              "        vertical-align: top;\n",
              "    }\n",
              "\n",
              "    .dataframe thead th {\n",
              "        text-align: right;\n",
              "    }\n",
              "</style>\n",
              "<table border=\"1\" class=\"dataframe\">\n",
              "  <thead>\n",
              "    <tr style=\"text-align: right;\">\n",
              "      <th></th>\n",
              "      <th>price_low</th>\n",
              "      <th>price_high</th>\n",
              "      <th>price_open</th>\n",
              "      <th>BTC / Realized Market Cap (USD)</th>\n",
              "      <th>BTC / Val in Addrs w/ Bal ≥ 100 (native units)</th>\n",
              "      <th>BTC / Val in Addrs w/ Bal ≥ $1M USD</th>\n",
              "      <th>BTC / Val in Addrs w/ Bal ≥ $10M USD</th>\n",
              "      <th>BTC_price</th>\n",
              "    </tr>\n",
              "  </thead>\n",
              "  <tbody>\n",
              "    <tr>\n",
              "      <th>11</th>\n",
              "      <td>340.00</td>\n",
              "      <td>340.00</td>\n",
              "      <td>340.00</td>\n",
              "      <td>4.380329e+09</td>\n",
              "      <td>9.221014e+06</td>\n",
              "      <td>4.145445e+06</td>\n",
              "      <td>1.924683e+06</td>\n",
              "      <td>340.00</td>\n",
              "    </tr>\n",
              "    <tr>\n",
              "      <th>12</th>\n",
              "      <td>340.00</td>\n",
              "      <td>340.00</td>\n",
              "      <td>340.00</td>\n",
              "      <td>4.370060e+09</td>\n",
              "      <td>9.223876e+06</td>\n",
              "      <td>4.051809e+06</td>\n",
              "      <td>1.854669e+06</td>\n",
              "      <td>340.00</td>\n",
              "    </tr>\n",
              "    <tr>\n",
              "      <th>13</th>\n",
              "      <td>340.00</td>\n",
              "      <td>340.00</td>\n",
              "      <td>340.00</td>\n",
              "      <td>4.362259e+09</td>\n",
              "      <td>9.235230e+06</td>\n",
              "      <td>4.025844e+06</td>\n",
              "      <td>1.820324e+06</td>\n",
              "      <td>340.00</td>\n",
              "    </tr>\n",
              "    <tr>\n",
              "      <th>14</th>\n",
              "      <td>340.00</td>\n",
              "      <td>340.00</td>\n",
              "      <td>340.00</td>\n",
              "      <td>4.354468e+09</td>\n",
              "      <td>9.238207e+06</td>\n",
              "      <td>4.069146e+06</td>\n",
              "      <td>1.825637e+06</td>\n",
              "      <td>340.00</td>\n",
              "    </tr>\n",
              "    <tr>\n",
              "      <th>15</th>\n",
              "      <td>340.00</td>\n",
              "      <td>340.00</td>\n",
              "      <td>340.00</td>\n",
              "      <td>4.355354e+09</td>\n",
              "      <td>9.241839e+06</td>\n",
              "      <td>4.107305e+06</td>\n",
              "      <td>1.860647e+06</td>\n",
              "      <td>340.00</td>\n",
              "    </tr>\n",
              "    <tr>\n",
              "      <th>...</th>\n",
              "      <td>...</td>\n",
              "      <td>...</td>\n",
              "      <td>...</td>\n",
              "      <td>...</td>\n",
              "      <td>...</td>\n",
              "      <td>...</td>\n",
              "      <td>...</td>\n",
              "      <td>...</td>\n",
              "    </tr>\n",
              "    <tr>\n",
              "      <th>2651</th>\n",
              "      <td>44091.09</td>\n",
              "      <td>44820.58</td>\n",
              "      <td>44336.19</td>\n",
              "      <td>4.637621e+11</td>\n",
              "      <td>1.196295e+07</td>\n",
              "      <td>1.540448e+07</td>\n",
              "      <td>1.085518e+07</td>\n",
              "      <td>44539.42</td>\n",
              "    </tr>\n",
              "    <tr>\n",
              "      <th>2652</th>\n",
              "      <td>44437.22</td>\n",
              "      <td>46950.00</td>\n",
              "      <td>44538.21</td>\n",
              "      <td>4.645012e+11</td>\n",
              "      <td>1.196435e+07</td>\n",
              "      <td>1.544393e+07</td>\n",
              "      <td>1.090280e+07</td>\n",
              "      <td>46850.01</td>\n",
              "    </tr>\n",
              "    <tr>\n",
              "      <th>2653</th>\n",
              "      <td>46662.28</td>\n",
              "      <td>48240.00</td>\n",
              "      <td>46850.01</td>\n",
              "      <td>4.657595e+11</td>\n",
              "      <td>1.196048e+07</td>\n",
              "      <td>1.544759e+07</td>\n",
              "      <td>1.090915e+07</td>\n",
              "      <td>47144.92</td>\n",
              "    </tr>\n",
              "    <tr>\n",
              "      <th>2654</th>\n",
              "      <td>46589.00</td>\n",
              "      <td>48124.94</td>\n",
              "      <td>47146.92</td>\n",
              "      <td>4.667479e+11</td>\n",
              "      <td>1.195196e+07</td>\n",
              "      <td>1.544114e+07</td>\n",
              "      <td>1.090427e+07</td>\n",
              "      <td>47454.19</td>\n",
              "    </tr>\n",
              "    <tr>\n",
              "      <th>2655</th>\n",
              "      <td>46544.89</td>\n",
              "      <td>47717.01</td>\n",
              "      <td>47448.41</td>\n",
              "      <td>4.671434e+11</td>\n",
              "      <td>1.195079e+07</td>\n",
              "      <td>1.543379e+07</td>\n",
              "      <td>1.089526e+07</td>\n",
              "      <td>47078.03</td>\n",
              "    </tr>\n",
              "  </tbody>\n",
              "</table>\n",
              "<p>2645 rows × 8 columns</p>\n",
              "</div>\n",
              "      <button class=\"colab-df-convert\" onclick=\"convertToInteractive('df-4edd0dc4-a30c-4316-bd76-d2c1cb85c270')\"\n",
              "              title=\"Convert this dataframe to an interactive table.\"\n",
              "              style=\"display:none;\">\n",
              "        \n",
              "  <svg xmlns=\"http://www.w3.org/2000/svg\" height=\"24px\"viewBox=\"0 0 24 24\"\n",
              "       width=\"24px\">\n",
              "    <path d=\"M0 0h24v24H0V0z\" fill=\"none\"/>\n",
              "    <path d=\"M18.56 5.44l.94 2.06.94-2.06 2.06-.94-2.06-.94-.94-2.06-.94 2.06-2.06.94zm-11 1L8.5 8.5l.94-2.06 2.06-.94-2.06-.94L8.5 2.5l-.94 2.06-2.06.94zm10 10l.94 2.06.94-2.06 2.06-.94-2.06-.94-.94-2.06-.94 2.06-2.06.94z\"/><path d=\"M17.41 7.96l-1.37-1.37c-.4-.4-.92-.59-1.43-.59-.52 0-1.04.2-1.43.59L10.3 9.45l-7.72 7.72c-.78.78-.78 2.05 0 2.83L4 21.41c.39.39.9.59 1.41.59.51 0 1.02-.2 1.41-.59l7.78-7.78 2.81-2.81c.8-.78.8-2.07 0-2.86zM5.41 20L4 18.59l7.72-7.72 1.47 1.35L5.41 20z\"/>\n",
              "  </svg>\n",
              "      </button>\n",
              "      \n",
              "  <style>\n",
              "    .colab-df-container {\n",
              "      display:flex;\n",
              "      flex-wrap:wrap;\n",
              "      gap: 12px;\n",
              "    }\n",
              "\n",
              "    .colab-df-convert {\n",
              "      background-color: #E8F0FE;\n",
              "      border: none;\n",
              "      border-radius: 50%;\n",
              "      cursor: pointer;\n",
              "      display: none;\n",
              "      fill: #1967D2;\n",
              "      height: 32px;\n",
              "      padding: 0 0 0 0;\n",
              "      width: 32px;\n",
              "    }\n",
              "\n",
              "    .colab-df-convert:hover {\n",
              "      background-color: #E2EBFA;\n",
              "      box-shadow: 0px 1px 2px rgba(60, 64, 67, 0.3), 0px 1px 3px 1px rgba(60, 64, 67, 0.15);\n",
              "      fill: #174EA6;\n",
              "    }\n",
              "\n",
              "    [theme=dark] .colab-df-convert {\n",
              "      background-color: #3B4455;\n",
              "      fill: #D2E3FC;\n",
              "    }\n",
              "\n",
              "    [theme=dark] .colab-df-convert:hover {\n",
              "      background-color: #434B5C;\n",
              "      box-shadow: 0px 1px 3px 1px rgba(0, 0, 0, 0.15);\n",
              "      filter: drop-shadow(0px 1px 2px rgba(0, 0, 0, 0.3));\n",
              "      fill: #FFFFFF;\n",
              "    }\n",
              "  </style>\n",
              "\n",
              "      <script>\n",
              "        const buttonEl =\n",
              "          document.querySelector('#df-4edd0dc4-a30c-4316-bd76-d2c1cb85c270 button.colab-df-convert');\n",
              "        buttonEl.style.display =\n",
              "          google.colab.kernel.accessAllowed ? 'block' : 'none';\n",
              "\n",
              "        async function convertToInteractive(key) {\n",
              "          const element = document.querySelector('#df-4edd0dc4-a30c-4316-bd76-d2c1cb85c270');\n",
              "          const dataTable =\n",
              "            await google.colab.kernel.invokeFunction('convertToInteractive',\n",
              "                                                     [key], {});\n",
              "          if (!dataTable) return;\n",
              "\n",
              "          const docLinkHtml = 'Like what you see? Visit the ' +\n",
              "            '<a target=\"_blank\" href=https://colab.research.google.com/notebooks/data_table.ipynb>data table notebook</a>'\n",
              "            + ' to learn more about interactive tables.';\n",
              "          element.innerHTML = '';\n",
              "          dataTable['output_type'] = 'display_data';\n",
              "          await google.colab.output.renderOutput(dataTable, element);\n",
              "          const docLink = document.createElement('div');\n",
              "          docLink.innerHTML = docLinkHtml;\n",
              "          element.appendChild(docLink);\n",
              "        }\n",
              "      </script>\n",
              "    </div>\n",
              "  </div>\n",
              "  "
            ]
          },
          "metadata": {},
          "execution_count": 5
        }
      ]
    },
    {
      "cell_type": "code",
      "source": [
        "from google.colab import files\n",
        "\n",
        "df_selected_GI.to_csv(\"btc_final_GI.csv\")\n",
        "files.download(\"btc_final_GI.csv\")"
      ],
      "metadata": {
        "colab": {
          "base_uri": "https://localhost:8080/",
          "height": 17
        },
        "id": "uEcDg4Q7hMp1",
        "outputId": "f54b6408-b613-42c1-ebd7-53450187aa25"
      },
      "execution_count": null,
      "outputs": [
        {
          "output_type": "display_data",
          "data": {
            "text/plain": [
              "<IPython.core.display.Javascript object>"
            ],
            "application/javascript": [
              "\n",
              "    async function download(id, filename, size) {\n",
              "      if (!google.colab.kernel.accessAllowed) {\n",
              "        return;\n",
              "      }\n",
              "      const div = document.createElement('div');\n",
              "      const label = document.createElement('label');\n",
              "      label.textContent = `Downloading \"${filename}\": `;\n",
              "      div.appendChild(label);\n",
              "      const progress = document.createElement('progress');\n",
              "      progress.max = size;\n",
              "      div.appendChild(progress);\n",
              "      document.body.appendChild(div);\n",
              "\n",
              "      const buffers = [];\n",
              "      let downloaded = 0;\n",
              "\n",
              "      const channel = await google.colab.kernel.comms.open(id);\n",
              "      // Send a message to notify the kernel that we're ready.\n",
              "      channel.send({})\n",
              "\n",
              "      for await (const message of channel.messages) {\n",
              "        // Send a message to notify the kernel that we're ready.\n",
              "        channel.send({})\n",
              "        if (message.buffers) {\n",
              "          for (const buffer of message.buffers) {\n",
              "            buffers.push(buffer);\n",
              "            downloaded += buffer.byteLength;\n",
              "            progress.value = downloaded;\n",
              "          }\n",
              "        }\n",
              "      }\n",
              "      const blob = new Blob(buffers, {type: 'application/binary'});\n",
              "      const a = document.createElement('a');\n",
              "      a.href = window.URL.createObjectURL(blob);\n",
              "      a.download = filename;\n",
              "      div.appendChild(a);\n",
              "      a.click();\n",
              "      div.remove();\n",
              "    }\n",
              "  "
            ]
          },
          "metadata": {}
        },
        {
          "output_type": "display_data",
          "data": {
            "text/plain": [
              "<IPython.core.display.Javascript object>"
            ],
            "application/javascript": [
              "download(\"download_67fa27b4-f068-4083-9b30-ed36adad5723\", \"btc_final_GI.csv\", 278733)"
            ]
          },
          "metadata": {}
        }
      ]
    },
    {
      "cell_type": "markdown",
      "metadata": {
        "id": "02NKzth3hl0w"
      },
      "source": [
        "## Feature importance - permutation Method"
      ]
    },
    {
      "cell_type": "markdown",
      "metadata": {
        "id": "_tqAQxfPyG6D"
      },
      "source": [
        "The calculation of the importance by the method of permutations is a technique in which one mixes the values of a column in order to observe the impact on the obtained score. If the score is affected a lot, it means that the permuted variable is very important."
      ]
    },
    {
      "cell_type": "markdown",
      "metadata": {
        "id": "8fwcLhqUM7LP"
      },
      "source": [
        "we use Scikit-learn methode [permutation_importance](https://scikit-learn.org/stable/modules/generated/sklearn.inspection.permutation_importance.html#sklearn.inspection.permutation_importance)"
      ]
    },
    {
      "cell_type": "code",
      "execution_count": null,
      "metadata": {
        "id": "m2hGPtGLMm09"
      },
      "outputs": [],
      "source": [
        "from sklearn.inspection import permutation_importance\n",
        "\n",
        "result = permutation_importance(clf, X, Y, n_repeats=10,n_jobs=-1)"
      ]
    },
    {
      "cell_type": "code",
      "execution_count": null,
      "metadata": {
        "id": "uf-o9cz6O4uD"
      },
      "outputs": [],
      "source": [
        "scores={c:[] for c in X.columns}\n",
        "i=0\n",
        "for c in scores:\n",
        "  scores[c].append(result.importances_mean[i])\n",
        "  i = i+1"
      ]
    },
    {
      "cell_type": "code",
      "execution_count": null,
      "metadata": {
        "id": "8X1-50Z7T7gu"
      },
      "outputs": [],
      "source": [
        "feat_perm = pd.DataFrame.from_dict(scores).melt().groupby(['variable'] , as_index=False).mean().sort_values(['value'], ascending=False)"
      ]
    },
    {
      "cell_type": "code",
      "execution_count": null,
      "metadata": {
        "colab": {
          "base_uri": "https://localhost:8080/",
          "height": 542
        },
        "id": "70_JkYdu6gd8",
        "outputId": "29d388e3-093a-4b89-aea3-8cdfec5ec9ed"
      },
      "outputs": [
        {
          "output_type": "display_data",
          "data": {
            "text/html": [
              "<html>\n",
              "<head><meta charset=\"utf-8\" /></head>\n",
              "<body>\n",
              "    <div>            <script src=\"https://cdnjs.cloudflare.com/ajax/libs/mathjax/2.7.5/MathJax.js?config=TeX-AMS-MML_SVG\"></script><script type=\"text/javascript\">if (window.MathJax) {MathJax.Hub.Config({SVG: {font: \"STIX-Web\"}});}</script>                <script type=\"text/javascript\">window.PlotlyConfig = {MathJaxConfig: 'local'};</script>\n",
              "        <script src=\"https://cdn.plot.ly/plotly-2.8.3.min.js\"></script>                <div id=\"34e5ed81-23d1-43fd-86bf-dce5c9155951\" class=\"plotly-graph-div\" style=\"height:525px; width:100%;\"></div>            <script type=\"text/javascript\">                                    window.PLOTLYENV=window.PLOTLYENV || {};                                    if (document.getElementById(\"34e5ed81-23d1-43fd-86bf-dce5c9155951\")) {                    Plotly.newPlot(                        \"34e5ed81-23d1-43fd-86bf-dce5c9155951\",                        [{\"alignmentgroup\":\"True\",\"hovertemplate\":\"column=%{x}<br>% change in recall=%{y}<extra></extra>\",\"legendgroup\":\"\",\"marker\":{\"color\":\"#636efa\",\"pattern\":{\"shape\":\"\"}},\"name\":\"\",\"offsetgroup\":\"\",\"orientation\":\"v\",\"showlegend\":false,\"textposition\":\"auto\",\"x\":[\"price_low\",\"price_high\",\"BTC_price_lag_1\",\"price_open\",\"price_low_lag_1\",\"BTC_price_MA7\",\"price_high_lag_1\",\"price_high_MA7\",\"price_open_lag_1\",\"BTC_price_lag_2\",\"BTC / Realized Market Cap (USD)_lag_2\",\"price_low_lag_2\",\"BTC / Val in Addrs w/ Bal \\u2265 100 (native units)_lag_5\",\"BTC / Realized Market Cap (USD)_lag_1\",\"BTC / Realized Market Cap (USD)_MA14\",\"BTC / Realized Market Cap (USD)_lag_8\",\"BTC / Val in Addrs w/ Bal \\u2265 $10M USD\",\"BTC / Val in Addrs w/ Bal \\u2265 100 (native units)_lag_2\",\"price_high_lag_6\",\"price_low_MA7\"],\"xaxis\":\"x\",\"y\":[0.0029916430808972104,0.002501731682489028,0.0016627632972215146,0.0015244110881822092,0.000940450539552895,0.0008558605169473154,0.000770047793581563,0.0004461788477510997,0.0004426131054201421,0.0004240623321225212,0.00041120901702169644,0.0004102175552941123,0.00040140774827688295,0.00039445097335414345,0.00038510099473628714,0.0003545059003943085,0.0003416316148232679,0.0003390140576338907,0.00033259304398001175,0.00032587787669408064],\"yaxis\":\"y\",\"type\":\"bar\"}],                        {\"template\":{\"data\":{\"bar\":[{\"error_x\":{\"color\":\"#2a3f5f\"},\"error_y\":{\"color\":\"#2a3f5f\"},\"marker\":{\"line\":{\"color\":\"#E5ECF6\",\"width\":0.5},\"pattern\":{\"fillmode\":\"overlay\",\"size\":10,\"solidity\":0.2}},\"type\":\"bar\"}],\"barpolar\":[{\"marker\":{\"line\":{\"color\":\"#E5ECF6\",\"width\":0.5},\"pattern\":{\"fillmode\":\"overlay\",\"size\":10,\"solidity\":0.2}},\"type\":\"barpolar\"}],\"carpet\":[{\"aaxis\":{\"endlinecolor\":\"#2a3f5f\",\"gridcolor\":\"white\",\"linecolor\":\"white\",\"minorgridcolor\":\"white\",\"startlinecolor\":\"#2a3f5f\"},\"baxis\":{\"endlinecolor\":\"#2a3f5f\",\"gridcolor\":\"white\",\"linecolor\":\"white\",\"minorgridcolor\":\"white\",\"startlinecolor\":\"#2a3f5f\"},\"type\":\"carpet\"}],\"choropleth\":[{\"colorbar\":{\"outlinewidth\":0,\"ticks\":\"\"},\"type\":\"choropleth\"}],\"contour\":[{\"colorbar\":{\"outlinewidth\":0,\"ticks\":\"\"},\"colorscale\":[[0.0,\"#0d0887\"],[0.1111111111111111,\"#46039f\"],[0.2222222222222222,\"#7201a8\"],[0.3333333333333333,\"#9c179e\"],[0.4444444444444444,\"#bd3786\"],[0.5555555555555556,\"#d8576b\"],[0.6666666666666666,\"#ed7953\"],[0.7777777777777778,\"#fb9f3a\"],[0.8888888888888888,\"#fdca26\"],[1.0,\"#f0f921\"]],\"type\":\"contour\"}],\"contourcarpet\":[{\"colorbar\":{\"outlinewidth\":0,\"ticks\":\"\"},\"type\":\"contourcarpet\"}],\"heatmap\":[{\"colorbar\":{\"outlinewidth\":0,\"ticks\":\"\"},\"colorscale\":[[0.0,\"#0d0887\"],[0.1111111111111111,\"#46039f\"],[0.2222222222222222,\"#7201a8\"],[0.3333333333333333,\"#9c179e\"],[0.4444444444444444,\"#bd3786\"],[0.5555555555555556,\"#d8576b\"],[0.6666666666666666,\"#ed7953\"],[0.7777777777777778,\"#fb9f3a\"],[0.8888888888888888,\"#fdca26\"],[1.0,\"#f0f921\"]],\"type\":\"heatmap\"}],\"heatmapgl\":[{\"colorbar\":{\"outlinewidth\":0,\"ticks\":\"\"},\"colorscale\":[[0.0,\"#0d0887\"],[0.1111111111111111,\"#46039f\"],[0.2222222222222222,\"#7201a8\"],[0.3333333333333333,\"#9c179e\"],[0.4444444444444444,\"#bd3786\"],[0.5555555555555556,\"#d8576b\"],[0.6666666666666666,\"#ed7953\"],[0.7777777777777778,\"#fb9f3a\"],[0.8888888888888888,\"#fdca26\"],[1.0,\"#f0f921\"]],\"type\":\"heatmapgl\"}],\"histogram\":[{\"marker\":{\"pattern\":{\"fillmode\":\"overlay\",\"size\":10,\"solidity\":0.2}},\"type\":\"histogram\"}],\"histogram2d\":[{\"colorbar\":{\"outlinewidth\":0,\"ticks\":\"\"},\"colorscale\":[[0.0,\"#0d0887\"],[0.1111111111111111,\"#46039f\"],[0.2222222222222222,\"#7201a8\"],[0.3333333333333333,\"#9c179e\"],[0.4444444444444444,\"#bd3786\"],[0.5555555555555556,\"#d8576b\"],[0.6666666666666666,\"#ed7953\"],[0.7777777777777778,\"#fb9f3a\"],[0.8888888888888888,\"#fdca26\"],[1.0,\"#f0f921\"]],\"type\":\"histogram2d\"}],\"histogram2dcontour\":[{\"colorbar\":{\"outlinewidth\":0,\"ticks\":\"\"},\"colorscale\":[[0.0,\"#0d0887\"],[0.1111111111111111,\"#46039f\"],[0.2222222222222222,\"#7201a8\"],[0.3333333333333333,\"#9c179e\"],[0.4444444444444444,\"#bd3786\"],[0.5555555555555556,\"#d8576b\"],[0.6666666666666666,\"#ed7953\"],[0.7777777777777778,\"#fb9f3a\"],[0.8888888888888888,\"#fdca26\"],[1.0,\"#f0f921\"]],\"type\":\"histogram2dcontour\"}],\"mesh3d\":[{\"colorbar\":{\"outlinewidth\":0,\"ticks\":\"\"},\"type\":\"mesh3d\"}],\"parcoords\":[{\"line\":{\"colorbar\":{\"outlinewidth\":0,\"ticks\":\"\"}},\"type\":\"parcoords\"}],\"pie\":[{\"automargin\":true,\"type\":\"pie\"}],\"scatter\":[{\"marker\":{\"colorbar\":{\"outlinewidth\":0,\"ticks\":\"\"}},\"type\":\"scatter\"}],\"scatter3d\":[{\"line\":{\"colorbar\":{\"outlinewidth\":0,\"ticks\":\"\"}},\"marker\":{\"colorbar\":{\"outlinewidth\":0,\"ticks\":\"\"}},\"type\":\"scatter3d\"}],\"scattercarpet\":[{\"marker\":{\"colorbar\":{\"outlinewidth\":0,\"ticks\":\"\"}},\"type\":\"scattercarpet\"}],\"scattergeo\":[{\"marker\":{\"colorbar\":{\"outlinewidth\":0,\"ticks\":\"\"}},\"type\":\"scattergeo\"}],\"scattergl\":[{\"marker\":{\"colorbar\":{\"outlinewidth\":0,\"ticks\":\"\"}},\"type\":\"scattergl\"}],\"scattermapbox\":[{\"marker\":{\"colorbar\":{\"outlinewidth\":0,\"ticks\":\"\"}},\"type\":\"scattermapbox\"}],\"scatterpolar\":[{\"marker\":{\"colorbar\":{\"outlinewidth\":0,\"ticks\":\"\"}},\"type\":\"scatterpolar\"}],\"scatterpolargl\":[{\"marker\":{\"colorbar\":{\"outlinewidth\":0,\"ticks\":\"\"}},\"type\":\"scatterpolargl\"}],\"scatterternary\":[{\"marker\":{\"colorbar\":{\"outlinewidth\":0,\"ticks\":\"\"}},\"type\":\"scatterternary\"}],\"surface\":[{\"colorbar\":{\"outlinewidth\":0,\"ticks\":\"\"},\"colorscale\":[[0.0,\"#0d0887\"],[0.1111111111111111,\"#46039f\"],[0.2222222222222222,\"#7201a8\"],[0.3333333333333333,\"#9c179e\"],[0.4444444444444444,\"#bd3786\"],[0.5555555555555556,\"#d8576b\"],[0.6666666666666666,\"#ed7953\"],[0.7777777777777778,\"#fb9f3a\"],[0.8888888888888888,\"#fdca26\"],[1.0,\"#f0f921\"]],\"type\":\"surface\"}],\"table\":[{\"cells\":{\"fill\":{\"color\":\"#EBF0F8\"},\"line\":{\"color\":\"white\"}},\"header\":{\"fill\":{\"color\":\"#C8D4E3\"},\"line\":{\"color\":\"white\"}},\"type\":\"table\"}]},\"layout\":{\"annotationdefaults\":{\"arrowcolor\":\"#2a3f5f\",\"arrowhead\":0,\"arrowwidth\":1},\"autotypenumbers\":\"strict\",\"coloraxis\":{\"colorbar\":{\"outlinewidth\":0,\"ticks\":\"\"}},\"colorscale\":{\"diverging\":[[0,\"#8e0152\"],[0.1,\"#c51b7d\"],[0.2,\"#de77ae\"],[0.3,\"#f1b6da\"],[0.4,\"#fde0ef\"],[0.5,\"#f7f7f7\"],[0.6,\"#e6f5d0\"],[0.7,\"#b8e186\"],[0.8,\"#7fbc41\"],[0.9,\"#4d9221\"],[1,\"#276419\"]],\"sequential\":[[0.0,\"#0d0887\"],[0.1111111111111111,\"#46039f\"],[0.2222222222222222,\"#7201a8\"],[0.3333333333333333,\"#9c179e\"],[0.4444444444444444,\"#bd3786\"],[0.5555555555555556,\"#d8576b\"],[0.6666666666666666,\"#ed7953\"],[0.7777777777777778,\"#fb9f3a\"],[0.8888888888888888,\"#fdca26\"],[1.0,\"#f0f921\"]],\"sequentialminus\":[[0.0,\"#0d0887\"],[0.1111111111111111,\"#46039f\"],[0.2222222222222222,\"#7201a8\"],[0.3333333333333333,\"#9c179e\"],[0.4444444444444444,\"#bd3786\"],[0.5555555555555556,\"#d8576b\"],[0.6666666666666666,\"#ed7953\"],[0.7777777777777778,\"#fb9f3a\"],[0.8888888888888888,\"#fdca26\"],[1.0,\"#f0f921\"]]},\"colorway\":[\"#636efa\",\"#EF553B\",\"#00cc96\",\"#ab63fa\",\"#FFA15A\",\"#19d3f3\",\"#FF6692\",\"#B6E880\",\"#FF97FF\",\"#FECB52\"],\"font\":{\"color\":\"#2a3f5f\"},\"geo\":{\"bgcolor\":\"white\",\"lakecolor\":\"white\",\"landcolor\":\"#E5ECF6\",\"showlakes\":true,\"showland\":true,\"subunitcolor\":\"white\"},\"hoverlabel\":{\"align\":\"left\"},\"hovermode\":\"closest\",\"mapbox\":{\"style\":\"light\"},\"paper_bgcolor\":\"white\",\"plot_bgcolor\":\"#E5ECF6\",\"polar\":{\"angularaxis\":{\"gridcolor\":\"white\",\"linecolor\":\"white\",\"ticks\":\"\"},\"bgcolor\":\"#E5ECF6\",\"radialaxis\":{\"gridcolor\":\"white\",\"linecolor\":\"white\",\"ticks\":\"\"}},\"scene\":{\"xaxis\":{\"backgroundcolor\":\"#E5ECF6\",\"gridcolor\":\"white\",\"gridwidth\":2,\"linecolor\":\"white\",\"showbackground\":true,\"ticks\":\"\",\"zerolinecolor\":\"white\"},\"yaxis\":{\"backgroundcolor\":\"#E5ECF6\",\"gridcolor\":\"white\",\"gridwidth\":2,\"linecolor\":\"white\",\"showbackground\":true,\"ticks\":\"\",\"zerolinecolor\":\"white\"},\"zaxis\":{\"backgroundcolor\":\"#E5ECF6\",\"gridcolor\":\"white\",\"gridwidth\":2,\"linecolor\":\"white\",\"showbackground\":true,\"ticks\":\"\",\"zerolinecolor\":\"white\"}},\"shapedefaults\":{\"line\":{\"color\":\"#2a3f5f\"}},\"ternary\":{\"aaxis\":{\"gridcolor\":\"white\",\"linecolor\":\"white\",\"ticks\":\"\"},\"baxis\":{\"gridcolor\":\"white\",\"linecolor\":\"white\",\"ticks\":\"\"},\"bgcolor\":\"#E5ECF6\",\"caxis\":{\"gridcolor\":\"white\",\"linecolor\":\"white\",\"ticks\":\"\"}},\"title\":{\"x\":0.05},\"xaxis\":{\"automargin\":true,\"gridcolor\":\"white\",\"linecolor\":\"white\",\"ticks\":\"\",\"title\":{\"standoff\":15},\"zerolinecolor\":\"white\",\"zerolinewidth\":2},\"yaxis\":{\"automargin\":true,\"gridcolor\":\"white\",\"linecolor\":\"white\",\"ticks\":\"\",\"title\":{\"standoff\":15},\"zerolinecolor\":\"white\",\"zerolinewidth\":2}}},\"xaxis\":{\"anchor\":\"y\",\"domain\":[0.0,1.0],\"title\":{\"text\":\"column\"}},\"yaxis\":{\"anchor\":\"x\",\"domain\":[0.0,1.0],\"title\":{\"text\":\"% change in recall\"}},\"legend\":{\"tracegroupgap\":0},\"margin\":{\"t\":60},\"barmode\":\"relative\"},                        {\"responsive\": true}                    ).then(function(){\n",
              "                            \n",
              "var gd = document.getElementById('34e5ed81-23d1-43fd-86bf-dce5c9155951');\n",
              "var x = new MutationObserver(function (mutations, observer) {{\n",
              "        var display = window.getComputedStyle(gd).display;\n",
              "        if (!display || display === 'none') {{\n",
              "            console.log([gd, 'removed!']);\n",
              "            Plotly.purge(gd);\n",
              "            observer.disconnect();\n",
              "        }}\n",
              "}});\n",
              "\n",
              "// Listen for the removal of the full notebook cells\n",
              "var notebookContainer = gd.closest('#notebook-container');\n",
              "if (notebookContainer) {{\n",
              "    x.observe(notebookContainer, {childList: true});\n",
              "}}\n",
              "\n",
              "// Listen for the clearing of the current output cell\n",
              "var outputEl = gd.closest('.output');\n",
              "if (outputEl) {{\n",
              "    x.observe(outputEl, {childList: true});\n",
              "}}\n",
              "\n",
              "                        })                };                            </script>        </div>\n",
              "</body>\n",
              "</html>"
            ]
          },
          "metadata": {}
        }
      ],
      "source": [
        "px.bar(feat_perm[:20], x='variable', y='value',labels={'variable':'column','value':'% change in recall'})"
      ]
    },
    {
      "cell_type": "markdown",
      "metadata": {
        "id": "Ff96TbRjyddL"
      },
      "source": [
        "# Comparing both methods"
      ]
    },
    {
      "cell_type": "code",
      "execution_count": null,
      "metadata": {
        "colab": {
          "base_uri": "https://localhost:8080/",
          "height": 583
        },
        "id": "ya2lTGWlkWXi",
        "outputId": "53a6a1c5-b86d-48b8-bf3b-b8145628aa3c"
      },
      "outputs": [
        {
          "output_type": "display_data",
          "data": {
            "text/plain": [
              "<Figure size 864x576 with 2 Axes>"
            ],
            "image/png": "[encoded data removed]"
          },
          "metadata": {
            "needs_background": "light"
          }
        }
      ],
      "source": [
        "#feature_perm = pd.DataFrame.from_dict(scores).melt().groupby(['variable']).mean().reset_index().sort_values(['value'], ascending=False)\n",
        "#feature_imp = feat_imp.sort_values(['imps'],ascending=False)\n",
        "#feature_imp = feature_imp\n",
        "\n",
        "feature_number = 50\n",
        "\n",
        "tree_indices = np.arange(0, len(feat_imp[:feature_number])) + 0.5\n",
        "\n",
        "fig, (ax1, ax2) = plt.subplots(1, 2, figsize=(12, 8))\n",
        "\n",
        "ax1.barh(tree_indices,feat_imp['imps'][:feature_number].values, height=0.7)\n",
        "ax1.set_yticks(tree_indices)\n",
        "ax1.set_yticklabels(feat_imp['cols'][:feature_number].values)\n",
        "ax1.set_ylim((0, len(feat_imp[:feature_number])))\n",
        "\n",
        "ax2.barh(tree_indices,feat_perm['value'][:feature_number].values, height=0.7)\n",
        "ax2.set_yticks(tree_indices)\n",
        "ax2.set_yticklabels(feat_perm['variable'][:feature_number].values)\n",
        "ax2.set_ylim((0, len(feat_perm[:feature_number])))\n",
        "\n",
        "fig.tight_layout()\n",
        "plt.show()"
      ]
    },
    {
      "cell_type": "code",
      "source": [
        "# keeping the features that intersect in both diagrams\n",
        "features_to_keep = list(set(feat_imp['cols'][:feature_number].values).intersection(feat_perm['variable'][:feature_number].values))"
      ],
      "metadata": {
        "id": "5O-dz5ZFfPSl"
      },
      "execution_count": null,
      "outputs": []
    },
    {
      "cell_type": "code",
      "source": [
        "# redefining our new variable X_new\n",
        "X_new = df_final[features_to_keep].iloc[:-1,:]"
      ],
      "metadata": {
        "id": "prjKPulff9b_"
      },
      "execution_count": null,
      "outputs": []
    },
    {
      "cell_type": "code",
      "source": [
        "# finding our new best n_estimators with X_new\n",
        "n_new = X_new.shape[0]\n",
        "p_new = X_new.shape[1]\n",
        "n_trees_max = 5000\n",
        "\n",
        "n_trees = np.linspace(50,n_trees_max,40).astype(np.int32)\n",
        "mtry = p_new/3\n",
        "OOB_err = []\n",
        "\n",
        "for i in n_trees:\n",
        "  print(\"#Trees : %d\" %i)\n",
        "  clf = RandomForestRegressor(n_estimators=i, bootstrap=True, oob_score=True, max_samples = n_new, max_features = int(mtry), n_jobs=-1)\n",
        "  clf.fit(X_new,tf.squeeze(np.asarray(Y),1))\n",
        "  OOB_err.append(1 - clf.oob_score_)"
      ],
      "metadata": {
        "colab": {
          "base_uri": "https://localhost:8080/"
        },
        "id": "8gQda39Qhxzb",
        "outputId": "c3a04c4d-24a8-4091-d823-a5ad84caed7a"
      },
      "execution_count": null,
      "outputs": [
        {
          "output_type": "stream",
          "name": "stdout",
          "text": [
            "#Trees : 50\n",
            "#Trees : 176\n",
            "#Trees : 303\n",
            "#Trees : 430\n",
            "#Trees : 557\n",
            "#Trees : 684\n",
            "#Trees : 811\n",
            "#Trees : 938\n",
            "#Trees : 1065\n",
            "#Trees : 1192\n",
            "#Trees : 1319\n",
            "#Trees : 1446\n",
            "#Trees : 1573\n",
            "#Trees : 1700\n",
            "#Trees : 1826\n",
            "#Trees : 1953\n",
            "#Trees : 2080\n",
            "#Trees : 2207\n",
            "#Trees : 2334\n",
            "#Trees : 2461\n",
            "#Trees : 2588\n",
            "#Trees : 2715\n",
            "#Trees : 2842\n",
            "#Trees : 2969\n",
            "#Trees : 3096\n",
            "#Trees : 3223\n",
            "#Trees : 3350\n",
            "#Trees : 3476\n",
            "#Trees : 3603\n",
            "#Trees : 3730\n",
            "#Trees : 3857\n",
            "#Trees : 3984\n",
            "#Trees : 4111\n",
            "#Trees : 4238\n",
            "#Trees : 4365\n",
            "#Trees : 4492\n",
            "#Trees : 4619\n",
            "#Trees : 4746\n",
            "#Trees : 4873\n",
            "#Trees : 5000\n"
          ]
        }
      ]
    },
    {
      "cell_type": "code",
      "source": [
        "plt.plot(n_trees,OOB_err)"
      ],
      "metadata": {
        "colab": {
          "base_uri": "https://localhost:8080/",
          "height": 283
        },
        "id": "9lD1X5VOie2m",
        "outputId": "9cd974f6-0f27-48bd-9e1a-b680d63c6084"
      },
      "execution_count": null,
      "outputs": [
        {
          "output_type": "execute_result",
          "data": {
            "text/plain": [
              "[<matplotlib.lines.Line2D at 0x7f86c03b3b90>]"
            ]
          },
          "metadata": {},
          "execution_count": 61
        },
        {
          "output_type": "display_data",
          "data": {
            "text/plain": [
              "<Figure size 432x288 with 1 Axes>"
            ],
            "image/png": "[encoded data removed]"
          },
          "metadata": {
            "needs_background": "light"
          }
        }
      ]
    },
    {
      "cell_type": "markdown",
      "source": [
        "we choose set the best n_estimators at 684 "
      ],
      "metadata": {
        "id": "6u01xdUk1uAQ"
      }
    },
    {
      "cell_type": "code",
      "source": [
        "# choosing best max_features for X_new\n",
        "\n",
        "n_trees = 684\n",
        "mtry_0 = 2 #np.int32(0.25*(p/3))\n",
        "\n",
        "m_try = np.unique(np.linspace(mtry_0,p_new,50).astype(np.int32))\n",
        "\n",
        "OOB_err = []\n",
        "\n",
        "for i in m_try:\n",
        "   print(\"mtry = %s\" %i)\n",
        "   clf = RandomForestRegressor(n_estimators=n_trees, bootstrap=True, oob_score=True, max_features=i, n_jobs=-1)\n",
        "   clf.fit(X_new,tf.squeeze(np.asarray(Y),1))\n",
        "   OOB_err.append(1 - clf.oob_score_)"
      ],
      "metadata": {
        "colab": {
          "base_uri": "https://localhost:8080/"
        },
        "id": "sX8kgOiVlM5g",
        "outputId": "5baf5fb6-59a0-464f-9f36-3d875b264861"
      },
      "execution_count": null,
      "outputs": [
        {
          "output_type": "stream",
          "name": "stdout",
          "text": [
            "mtry = 2\n",
            "mtry = 3\n",
            "mtry = 4\n",
            "mtry = 5\n",
            "mtry = 6\n",
            "mtry = 7\n",
            "mtry = 8\n",
            "mtry = 9\n",
            "mtry = 10\n",
            "mtry = 11\n",
            "mtry = 12\n",
            "mtry = 13\n",
            "mtry = 14\n",
            "mtry = 15\n",
            "mtry = 16\n",
            "mtry = 17\n",
            "mtry = 18\n",
            "mtry = 19\n",
            "mtry = 20\n",
            "mtry = 21\n",
            "mtry = 22\n",
            "mtry = 23\n",
            "mtry = 24\n",
            "mtry = 25\n",
            "mtry = 26\n",
            "mtry = 27\n",
            "mtry = 28\n",
            "mtry = 29\n",
            "mtry = 30\n",
            "mtry = 31\n",
            "mtry = 32\n",
            "mtry = 33\n",
            "mtry = 34\n",
            "mtry = 35\n",
            "mtry = 36\n",
            "mtry = 37\n",
            "mtry = 38\n",
            "mtry = 39\n"
          ]
        }
      ]
    },
    {
      "cell_type": "code",
      "source": [
        "plt.plot(m_try,OOB_err)"
      ],
      "metadata": {
        "colab": {
          "base_uri": "https://localhost:8080/",
          "height": 282
        },
        "id": "QAvPiY5Glr4b",
        "outputId": "0d07e895-133a-4626-b84e-f26110026ca6"
      },
      "execution_count": null,
      "outputs": [
        {
          "output_type": "execute_result",
          "data": {
            "text/plain": [
              "[<matplotlib.lines.Line2D at 0x7f86c0041790>]"
            ]
          },
          "metadata": {},
          "execution_count": 72
        },
        {
          "output_type": "display_data",
          "data": {
            "text/plain": [
              "<Figure size 432x288 with 1 Axes>"
            ],
            "image/png": "[encoded data removed]"
          },
          "metadata": {
            "needs_background": "light"
          }
        }
      ]
    },
    {
      "cell_type": "markdown",
      "source": [
        "we set best n_features to 2"
      ],
      "metadata": {
        "id": "oweveA5Z5hOH"
      }
    },
    {
      "cell_type": "markdown",
      "metadata": {
        "id": "zh_PRuZxRDI8"
      },
      "source": [
        "# Feature selection with RFE-CV method"
      ]
    },
    {
      "cell_type": "markdown",
      "metadata": {
        "id": "9an5Odj3IaKG"
      },
      "source": [
        "we use here [RFE-CV](https://scikit-learn.org/stable/modules/generated/sklearn.feature_selection.RFECV.html#sklearn.feature_selection.RFECV) (Recursive Feature Elimination with Cross-Validation) to select our final features for training our model."
      ]
    },
    {
      "cell_type": "code",
      "execution_count": null,
      "metadata": {
        "colab": {
          "base_uri": "https://localhost:8080/"
        },
        "id": "8iI_zoEYRIH3",
        "outputId": "be3b633e-8c47-41db-98b4-529d6923ddc2"
      },
      "outputs": [
        {
          "output_type": "stream",
          "name": "stdout",
          "text": [
            "Fitting estimator with 39 features.\n",
            "Fitting estimator with 38 features.\n",
            "Fitting estimator with 37 features.\n",
            "Fitting estimator with 36 features.\n",
            "Fitting estimator with 35 features.\n",
            "Fitting estimator with 34 features.\n",
            "Fitting estimator with 33 features.\n",
            "Fitting estimator with 32 features.\n",
            "Fitting estimator with 31 features.\n",
            "Fitting estimator with 30 features.\n",
            "Fitting estimator with 29 features.\n",
            "Fitting estimator with 28 features.\n",
            "Fitting estimator with 27 features.\n",
            "Fitting estimator with 26 features.\n",
            "Fitting estimator with 25 features.\n",
            "Fitting estimator with 24 features.\n",
            "Fitting estimator with 23 features.\n",
            "Fitting estimator with 22 features.\n",
            "Fitting estimator with 21 features.\n",
            "Fitting estimator with 20 features.\n",
            "Fitting estimator with 19 features.\n",
            "Fitting estimator with 18 features.\n",
            "Fitting estimator with 17 features.\n",
            "Fitting estimator with 16 features.\n",
            "Fitting estimator with 15 features.\n",
            "Fitting estimator with 14 features.\n",
            "Fitting estimator with 13 features.\n",
            "Fitting estimator with 12 features.\n",
            "Fitting estimator with 11 features.\n",
            "Fitting estimator with 10 features.\n",
            "Fitting estimator with 9 features.\n",
            "Fitting estimator with 8 features.\n",
            "Fitting estimator with 7 features.\n",
            "Fitting estimator with 6 features.\n",
            "Fitting estimator with 5 features.\n",
            "Fitting estimator with 39 features.\n",
            "Fitting estimator with 38 features.\n",
            "Fitting estimator with 37 features.\n",
            "Fitting estimator with 36 features.\n",
            "Fitting estimator with 35 features.\n",
            "Fitting estimator with 34 features.\n",
            "Fitting estimator with 33 features.\n",
            "Fitting estimator with 32 features.\n",
            "Fitting estimator with 31 features.\n",
            "Fitting estimator with 30 features.\n",
            "Fitting estimator with 29 features.\n",
            "Fitting estimator with 28 features.\n",
            "Fitting estimator with 27 features.\n",
            "Fitting estimator with 26 features.\n",
            "Fitting estimator with 25 features.\n",
            "Fitting estimator with 24 features.\n",
            "Fitting estimator with 23 features.\n",
            "Fitting estimator with 22 features.\n",
            "Fitting estimator with 21 features.\n",
            "Fitting estimator with 20 features.\n",
            "Fitting estimator with 19 features.\n",
            "Fitting estimator with 18 features.\n",
            "Fitting estimator with 17 features.\n",
            "Fitting estimator with 16 features.\n",
            "Fitting estimator with 15 features.\n",
            "Fitting estimator with 14 features.\n",
            "Fitting estimator with 13 features.\n",
            "Fitting estimator with 12 features.\n",
            "Fitting estimator with 11 features.\n",
            "Fitting estimator with 10 features.\n",
            "Fitting estimator with 9 features.\n",
            "Fitting estimator with 8 features.\n",
            "Fitting estimator with 7 features.\n",
            "Fitting estimator with 6 features.\n",
            "Fitting estimator with 5 features.\n",
            "Fitting estimator with 39 features.\n",
            "Fitting estimator with 38 features.\n",
            "Fitting estimator with 37 features.\n",
            "Fitting estimator with 36 features.\n",
            "Fitting estimator with 35 features.\n",
            "Fitting estimator with 34 features.\n",
            "Fitting estimator with 33 features.\n",
            "Fitting estimator with 32 features.\n",
            "Fitting estimator with 31 features.\n",
            "Fitting estimator with 30 features.\n",
            "Fitting estimator with 29 features.\n",
            "Fitting estimator with 28 features.\n",
            "Fitting estimator with 27 features.\n",
            "Fitting estimator with 26 features.\n",
            "Fitting estimator with 25 features.\n",
            "Fitting estimator with 24 features.\n",
            "Fitting estimator with 23 features.\n",
            "Fitting estimator with 22 features.\n",
            "Fitting estimator with 21 features.\n",
            "Fitting estimator with 20 features.\n",
            "Fitting estimator with 19 features.\n",
            "Fitting estimator with 18 features.\n",
            "Fitting estimator with 17 features.\n",
            "Fitting estimator with 16 features.\n",
            "Fitting estimator with 15 features.\n",
            "Fitting estimator with 14 features.\n",
            "Fitting estimator with 13 features.\n",
            "Fitting estimator with 12 features.\n",
            "Fitting estimator with 11 features.\n",
            "Fitting estimator with 10 features.\n",
            "Fitting estimator with 9 features.\n",
            "Fitting estimator with 8 features.\n",
            "Fitting estimator with 7 features.\n",
            "Fitting estimator with 6 features.\n",
            "Fitting estimator with 5 features.\n",
            "Fitting estimator with 39 features.\n",
            "Fitting estimator with 38 features.\n",
            "Fitting estimator with 37 features.\n",
            "Fitting estimator with 36 features.\n",
            "Fitting estimator with 35 features.\n",
            "Fitting estimator with 34 features.\n",
            "Fitting estimator with 33 features.\n",
            "Fitting estimator with 32 features.\n",
            "Fitting estimator with 31 features.\n",
            "Fitting estimator with 30 features.\n",
            "Fitting estimator with 29 features.\n",
            "Fitting estimator with 28 features.\n",
            "Fitting estimator with 27 features.\n",
            "Fitting estimator with 26 features.\n",
            "Fitting estimator with 25 features.\n",
            "Fitting estimator with 24 features.\n",
            "Fitting estimator with 23 features.\n",
            "Fitting estimator with 22 features.\n",
            "Fitting estimator with 21 features.\n",
            "Fitting estimator with 20 features.\n",
            "Fitting estimator with 19 features.\n",
            "Fitting estimator with 18 features.\n",
            "Fitting estimator with 17 features.\n",
            "Fitting estimator with 16 features.\n",
            "Fitting estimator with 15 features.\n",
            "Fitting estimator with 14 features.\n",
            "Fitting estimator with 13 features.\n",
            "Fitting estimator with 12 features.\n",
            "Fitting estimator with 11 features.\n",
            "Fitting estimator with 10 features.\n",
            "Fitting estimator with 9 features.\n",
            "Fitting estimator with 8 features.\n",
            "Fitting estimator with 7 features.\n",
            "Fitting estimator with 6 features.\n",
            "Fitting estimator with 5 features.\n",
            "Fitting estimator with 39 features.\n",
            "Fitting estimator with 38 features.\n",
            "Fitting estimator with 37 features.\n",
            "Fitting estimator with 36 features.\n",
            "Fitting estimator with 35 features.\n",
            "Fitting estimator with 34 features.\n",
            "Fitting estimator with 33 features.\n",
            "Fitting estimator with 32 features.\n",
            "Fitting estimator with 31 features.\n",
            "Fitting estimator with 30 features.\n",
            "Fitting estimator with 29 features.\n",
            "Fitting estimator with 28 features.\n",
            "Fitting estimator with 27 features.\n",
            "Fitting estimator with 26 features.\n",
            "Fitting estimator with 25 features.\n",
            "Fitting estimator with 24 features.\n",
            "Fitting estimator with 23 features.\n",
            "Fitting estimator with 22 features.\n",
            "Fitting estimator with 21 features.\n",
            "Fitting estimator with 20 features.\n",
            "Fitting estimator with 19 features.\n",
            "Fitting estimator with 18 features.\n",
            "Fitting estimator with 17 features.\n",
            "Fitting estimator with 16 features.\n",
            "Fitting estimator with 15 features.\n",
            "Fitting estimator with 14 features.\n",
            "Fitting estimator with 13 features.\n",
            "Fitting estimator with 12 features.\n",
            "Fitting estimator with 11 features.\n",
            "Fitting estimator with 10 features.\n",
            "Fitting estimator with 9 features.\n",
            "Fitting estimator with 8 features.\n",
            "Fitting estimator with 7 features.\n",
            "Fitting estimator with 6 features.\n",
            "Fitting estimator with 5 features.\n",
            "Fitting estimator with 39 features.\n",
            "Fitting estimator with 38 features.\n",
            "Fitting estimator with 37 features.\n",
            "Fitting estimator with 36 features.\n",
            "Fitting estimator with 35 features.\n",
            "Fitting estimator with 34 features.\n",
            "Fitting estimator with 33 features.\n",
            "Fitting estimator with 32 features.\n",
            "Fitting estimator with 31 features.\n",
            "Fitting estimator with 30 features.\n",
            "Fitting estimator with 29 features.\n",
            "Fitting estimator with 28 features.\n",
            "Fitting estimator with 27 features.\n",
            "Fitting estimator with 26 features.\n",
            "Fitting estimator with 25 features.\n",
            "Fitting estimator with 24 features.\n",
            "Fitting estimator with 23 features.\n",
            "Fitting estimator with 22 features.\n",
            "Fitting estimator with 21 features.\n",
            "Fitting estimator with 20 features.\n",
            "Fitting estimator with 19 features.\n",
            "Fitting estimator with 18 features.\n",
            "Fitting estimator with 17 features.\n",
            "Fitting estimator with 16 features.\n",
            "Fitting estimator with 15 features.\n",
            "Fitting estimator with 14 features.\n",
            "Fitting estimator with 13 features.\n",
            "Fitting estimator with 12 features.\n",
            "Fitting estimator with 11 features.\n",
            "Fitting estimator with 10 features.\n",
            "Fitting estimator with 9 features.\n",
            "Fitting estimator with 8 features.\n",
            "Fitting estimator with 7 features.\n",
            "Fitting estimator with 6 features.\n",
            "Fitting estimator with 5 features.\n"
          ]
        },
        {
          "output_type": "execute_result",
          "data": {
            "text/plain": [
              "RFECV(cv=5,\n",
              "      estimator=RandomForestRegressor(n_estimators=684, n_jobs=-1,\n",
              "                                      oob_score=True),\n",
              "      min_features_to_select=4, scoring='neg_mean_absolute_error', verbose=1)"
            ]
          },
          "metadata": {},
          "execution_count": 90
        }
      ],
      "source": [
        "from sklearn.feature_selection import RFECV\n",
        "\n",
        "# Data information\n",
        "n = X_new.shape[0]            # number of records\n",
        "p = X_new.shape[1]               # number of variables\n",
        "n_trees = 684\n",
        "m_try = 2\n",
        "min_features_to_select = 4\n",
        "\n",
        "clf = RandomForestRegressor(n_estimators=n_trees, bootstrap=True, oob_score=True, max_features=\"auto\", n_jobs=-1)\n",
        "rfecv = RFECV(estimator=clf, step=1, cv=5, scoring='neg_mean_absolute_error',min_features_to_select=min_features_to_select, verbose=1)\n",
        "rfecv.fit(X_new, tf.squeeze(np.asarray(Y),1))"
      ]
    },
    {
      "cell_type": "code",
      "source": [
        "print(\"Optimal number of features : %d\" % rfecv.n_features_)"
      ],
      "metadata": {
        "colab": {
          "base_uri": "https://localhost:8080/"
        },
        "id": "0NiBRn-zBo25",
        "outputId": "7bc4c1e6-843b-4142-facf-965f05491d11"
      },
      "execution_count": null,
      "outputs": [
        {
          "output_type": "stream",
          "name": "stdout",
          "text": [
            "Optimal number of features : 4\n"
          ]
        }
      ]
    },
    {
      "cell_type": "code",
      "source": [
        "plt.plot(range(min_features_to_select,len(rfecv.cv_results_['mean_test_score'])+min_features_to_select),rfecv.cv_results_['mean_test_score'])\n",
        "plt.show()"
      ],
      "metadata": {
        "colab": {
          "base_uri": "https://localhost:8080/",
          "height": 265
        },
        "id": "UdibPUoKBTap",
        "outputId": "5df1f48d-33a8-4e52-de83-5fb1c5a14ff4"
      },
      "execution_count": null,
      "outputs": [
        {
          "output_type": "display_data",
          "data": {
            "text/plain": [
              "<Figure size 432x288 with 1 Axes>"
            ],
            "image/png": "[encoded data removed]"
          },
          "metadata": {
            "needs_background": "light"
          }
        }
      ]
    },
    {
      "cell_type": "code",
      "execution_count": null,
      "metadata": {
        "colab": {
          "base_uri": "https://localhost:8080/"
        },
        "id": "WZdJR6ylcIfh",
        "outputId": "cd7787f7-8340-4777-9aed-1672a4e0b0a8"
      },
      "outputs": [
        {
          "output_type": "execute_result",
          "data": {
            "text/plain": [
              "array([36,  5,  1, 32, 16, 20,  9, 34,  6,  2, 23, 10, 28, 26, 12, 19,  3,\n",
              "       15, 35, 30, 33,  4, 31,  7, 11,  1,  1, 25, 13, 17, 27, 14,  1, 24,\n",
              "       22, 21, 18,  8, 29])"
            ]
          },
          "metadata": {},
          "execution_count": 99
        }
      ],
      "source": [
        "rfecv.ranking_"
      ]
    },
    {
      "cell_type": "code",
      "execution_count": null,
      "metadata": {
        "colab": {
          "base_uri": "https://localhost:8080/",
          "height": 485
        },
        "id": "UU2ifcmb2KvK",
        "outputId": "3ffdd835-8454-490e-855a-41f558d0f562"
      },
      "outputs": [
        {
          "output_type": "execute_result",
          "data": {
            "text/plain": [
              "      price_low  price_high_lag_6  \\\n",
              "11       340.00            340.00   \n",
              "12       340.00            340.00   \n",
              "13       340.00            340.00   \n",
              "14       340.00            340.00   \n",
              "15       340.00            340.00   \n",
              "...         ...               ...   \n",
              "2650   43605.80          42429.00   \n",
              "2651   44091.09          42330.10   \n",
              "2652   44437.22          41578.33   \n",
              "2653   46662.28          43389.79   \n",
              "2654   46589.00          43036.95   \n",
              "\n",
              "      BTC / Val in Addrs w/ Bal ≥ 100 (native units)_lag_5  \\\n",
              "11                                         9.208048e+06      \n",
              "12                                         9.210982e+06      \n",
              "13                                         9.213940e+06      \n",
              "14                                         9.213365e+06      \n",
              "15                                         9.217233e+06      \n",
              "...                                                 ...      \n",
              "2650                                       1.196181e+07      \n",
              "2651                                       1.196243e+07      \n",
              "2652                                       1.196127e+07      \n",
              "2653                                       1.196192e+07      \n",
              "2654                                       1.196206e+07      \n",
              "\n",
              "      BTC / Realized Market Cap (USD)_lag_3  \n",
              "11                             4.384641e+09  \n",
              "12                             4.379834e+09  \n",
              "13                             4.380336e+09  \n",
              "14                             4.380329e+09  \n",
              "15                             4.370060e+09  \n",
              "...                                     ...  \n",
              "2650                           4.604379e+11  \n",
              "2651                           4.607628e+11  \n",
              "2652                           4.612691e+11  \n",
              "2653                           4.636090e+11  \n",
              "2654                           4.637621e+11  \n",
              "\n",
              "[2644 rows x 4 columns]"
            ],
            "text/html": [
              "\n",
              "  <div id=\"df-4d7a5025-0db2-4613-ac72-3e293c4e53a4\">\n",
              "    <div class=\"colab-df-container\">\n",
              "      <div>\n",
              "<style scoped>\n",
              "    .dataframe tbody tr th:only-of-type {\n",
              "        vertical-align: middle;\n",
              "    }\n",
              "\n",
              "    .dataframe tbody tr th {\n",
              "        vertical-align: top;\n",
              "    }\n",
              "\n",
              "    .dataframe thead th {\n",
              "        text-align: right;\n",
              "    }\n",
              "</style>\n",
              "<table border=\"1\" class=\"dataframe\">\n",
              "  <thead>\n",
              "    <tr style=\"text-align: right;\">\n",
              "      <th></th>\n",
              "      <th>price_low</th>\n",
              "      <th>price_high_lag_6</th>\n",
              "      <th>BTC / Val in Addrs w/ Bal ≥ 100 (native units)_lag_5</th>\n",
              "      <th>BTC / Realized Market Cap (USD)_lag_3</th>\n",
              "    </tr>\n",
              "  </thead>\n",
              "  <tbody>\n",
              "    <tr>\n",
              "      <th>11</th>\n",
              "      <td>340.00</td>\n",
              "      <td>340.00</td>\n",
              "      <td>9.208048e+06</td>\n",
              "      <td>4.384641e+09</td>\n",
              "    </tr>\n",
              "    <tr>\n",
              "      <th>12</th>\n",
              "      <td>340.00</td>\n",
              "      <td>340.00</td>\n",
              "      <td>9.210982e+06</td>\n",
              "      <td>4.379834e+09</td>\n",
              "    </tr>\n",
              "    <tr>\n",
              "      <th>13</th>\n",
              "      <td>340.00</td>\n",
              "      <td>340.00</td>\n",
              "      <td>9.213940e+06</td>\n",
              "      <td>4.380336e+09</td>\n",
              "    </tr>\n",
              "    <tr>\n",
              "      <th>14</th>\n",
              "      <td>340.00</td>\n",
              "      <td>340.00</td>\n",
              "      <td>9.213365e+06</td>\n",
              "      <td>4.380329e+09</td>\n",
              "    </tr>\n",
              "    <tr>\n",
              "      <th>15</th>\n",
              "      <td>340.00</td>\n",
              "      <td>340.00</td>\n",
              "      <td>9.217233e+06</td>\n",
              "      <td>4.370060e+09</td>\n",
              "    </tr>\n",
              "    <tr>\n",
              "      <th>...</th>\n",
              "      <td>...</td>\n",
              "      <td>...</td>\n",
              "      <td>...</td>\n",
              "      <td>...</td>\n",
              "    </tr>\n",
              "    <tr>\n",
              "      <th>2650</th>\n",
              "      <td>43605.80</td>\n",
              "      <td>42429.00</td>\n",
              "      <td>1.196181e+07</td>\n",
              "      <td>4.604379e+11</td>\n",
              "    </tr>\n",
              "    <tr>\n",
              "      <th>2651</th>\n",
              "      <td>44091.09</td>\n",
              "      <td>42330.10</td>\n",
              "      <td>1.196243e+07</td>\n",
              "      <td>4.607628e+11</td>\n",
              "    </tr>\n",
              "    <tr>\n",
              "      <th>2652</th>\n",
              "      <td>44437.22</td>\n",
              "      <td>41578.33</td>\n",
              "      <td>1.196127e+07</td>\n",
              "      <td>4.612691e+11</td>\n",
              "    </tr>\n",
              "    <tr>\n",
              "      <th>2653</th>\n",
              "      <td>46662.28</td>\n",
              "      <td>43389.79</td>\n",
              "      <td>1.196192e+07</td>\n",
              "      <td>4.636090e+11</td>\n",
              "    </tr>\n",
              "    <tr>\n",
              "      <th>2654</th>\n",
              "      <td>46589.00</td>\n",
              "      <td>43036.95</td>\n",
              "      <td>1.196206e+07</td>\n",
              "      <td>4.637621e+11</td>\n",
              "    </tr>\n",
              "  </tbody>\n",
              "</table>\n",
              "<p>2644 rows × 4 columns</p>\n",
              "</div>\n",
              "      <button class=\"colab-df-convert\" onclick=\"convertToInteractive('df-4d7a5025-0db2-4613-ac72-3e293c4e53a4')\"\n",
              "              title=\"Convert this dataframe to an interactive table.\"\n",
              "              style=\"display:none;\">\n",
              "        \n",
              "  <svg xmlns=\"http://www.w3.org/2000/svg\" height=\"24px\"viewBox=\"0 0 24 24\"\n",
              "       width=\"24px\">\n",
              "    <path d=\"M0 0h24v24H0V0z\" fill=\"none\"/>\n",
              "    <path d=\"M18.56 5.44l.94 2.06.94-2.06 2.06-.94-2.06-.94-.94-2.06-.94 2.06-2.06.94zm-11 1L8.5 8.5l.94-2.06 2.06-.94-2.06-.94L8.5 2.5l-.94 2.06-2.06.94zm10 10l.94 2.06.94-2.06 2.06-.94-2.06-.94-.94-2.06-.94 2.06-2.06.94z\"/><path d=\"M17.41 7.96l-1.37-1.37c-.4-.4-.92-.59-1.43-.59-.52 0-1.04.2-1.43.59L10.3 9.45l-7.72 7.72c-.78.78-.78 2.05 0 2.83L4 21.41c.39.39.9.59 1.41.59.51 0 1.02-.2 1.41-.59l7.78-7.78 2.81-2.81c.8-.78.8-2.07 0-2.86zM5.41 20L4 18.59l7.72-7.72 1.47 1.35L5.41 20z\"/>\n",
              "  </svg>\n",
              "      </button>\n",
              "      \n",
              "  <style>\n",
              "    .colab-df-container {\n",
              "      display:flex;\n",
              "      flex-wrap:wrap;\n",
              "      gap: 12px;\n",
              "    }\n",
              "\n",
              "    .colab-df-convert {\n",
              "      background-color: #E8F0FE;\n",
              "      border: none;\n",
              "      border-radius: 50%;\n",
              "      cursor: pointer;\n",
              "      display: none;\n",
              "      fill: #1967D2;\n",
              "      height: 32px;\n",
              "      padding: 0 0 0 0;\n",
              "      width: 32px;\n",
              "    }\n",
              "\n",
              "    .colab-df-convert:hover {\n",
              "      background-color: #E2EBFA;\n",
              "      box-shadow: 0px 1px 2px rgba(60, 64, 67, 0.3), 0px 1px 3px 1px rgba(60, 64, 67, 0.15);\n",
              "      fill: #174EA6;\n",
              "    }\n",
              "\n",
              "    [theme=dark] .colab-df-convert {\n",
              "      background-color: #3B4455;\n",
              "      fill: #D2E3FC;\n",
              "    }\n",
              "\n",
              "    [theme=dark] .colab-df-convert:hover {\n",
              "      background-color: #434B5C;\n",
              "      box-shadow: 0px 1px 3px 1px rgba(0, 0, 0, 0.15);\n",
              "      filter: drop-shadow(0px 1px 2px rgba(0, 0, 0, 0.3));\n",
              "      fill: #FFFFFF;\n",
              "    }\n",
              "  </style>\n",
              "\n",
              "      <script>\n",
              "        const buttonEl =\n",
              "          document.querySelector('#df-4d7a5025-0db2-4613-ac72-3e293c4e53a4 button.colab-df-convert');\n",
              "        buttonEl.style.display =\n",
              "          google.colab.kernel.accessAllowed ? 'block' : 'none';\n",
              "\n",
              "        async function convertToInteractive(key) {\n",
              "          const element = document.querySelector('#df-4d7a5025-0db2-4613-ac72-3e293c4e53a4');\n",
              "          const dataTable =\n",
              "            await google.colab.kernel.invokeFunction('convertToInteractive',\n",
              "                                                     [key], {});\n",
              "          if (!dataTable) return;\n",
              "\n",
              "          const docLinkHtml = 'Like what you see? Visit the ' +\n",
              "            '<a target=\"_blank\" href=https://colab.research.google.com/notebooks/data_table.ipynb>data table notebook</a>'\n",
              "            + ' to learn more about interactive tables.';\n",
              "          element.innerHTML = '';\n",
              "          dataTable['output_type'] = 'display_data';\n",
              "          await google.colab.output.renderOutput(dataTable, element);\n",
              "          const docLink = document.createElement('div');\n",
              "          docLink.innerHTML = docLinkHtml;\n",
              "          element.appendChild(docLink);\n",
              "        }\n",
              "      </script>\n",
              "    </div>\n",
              "  </div>\n",
              "  "
            ]
          },
          "metadata": {},
          "execution_count": 101
        }
      ],
      "source": [
        "selected_rfecv = rfecv.ranking_\n",
        "df_selected_rfecv = pd.DataFrame()\n",
        "\n",
        "for i in range(len(X_new.columns)):\n",
        "  if selected_rfecv[i] == 1:\n",
        "    df_selected_rfecv[X_new.columns[i]] = X[X_new.columns[i]]\n",
        "\n",
        "df_selected_rfecv"
      ]
    },
    {
      "cell_type": "markdown",
      "metadata": {
        "id": "39J5USNqNNDU"
      },
      "source": [
        "**Corrélation entre les variables**"
      ]
    },
    {
      "cell_type": "code",
      "execution_count": null,
      "metadata": {
        "colab": {
          "base_uri": "https://localhost:8080/",
          "height": 725
        },
        "id": "NM8Sfwe2NQCU",
        "outputId": "d499c057-26db-4e61-c915-9ec9b2350f1e"
      },
      "outputs": [
        {
          "output_type": "stream",
          "name": "stderr",
          "text": [
            "/usr/local/lib/python3.7/dist-packages/ipykernel_launcher.py:6: DeprecationWarning:\n",
            "\n",
            "`np.bool` is a deprecated alias for the builtin `bool`. To silence this warning, use `bool` by itself. Doing this will not modify any behavior and is safe. If you specifically wanted the numpy scalar type, use `np.bool_` here.\n",
            "Deprecated in NumPy 1.20; for more details and guidance: https://numpy.org/devdocs/release/1.20.0-notes.html#deprecations\n",
            "\n"
          ]
        },
        {
          "output_type": "execute_result",
          "data": {
            "text/plain": [
              "<matplotlib.axes._subplots.AxesSubplot at 0x7f86bed9c8d0>"
            ]
          },
          "metadata": {},
          "execution_count": 102
        },
        {
          "output_type": "display_data",
          "data": {
            "text/plain": [
              "<Figure size 1080x576 with 2 Axes>"
            ],
            "image/png": "[encoded data removed]"
          },
          "metadata": {
            "needs_background": "light"
          }
        }
      ],
      "source": [
        "import seaborn as sns\n",
        "\n",
        "corr = df_selected_rfecv.corr()\n",
        "\n",
        "# Generate a mask for the upper triangle\n",
        "mask = np.triu(np.ones_like(corr, dtype=np.bool))\n",
        "\n",
        "# Set up the matplotlib figure\n",
        "f, ax = plt.subplots(figsize=(15, 8))\n",
        "\n",
        "sns.heatmap(corr,mask=mask, cmap='coolwarm',annot=True, fmt='.2f')"
      ]
    },
    {
      "cell_type": "markdown",
      "source": [
        "we have found only 4 features that are optimal :\n",
        "- price_low\n",
        "- price_high_lag_6\n",
        "- BTC / Val in Addrs w/ Bal ≥ 100 (native units)_lag_5\n",
        "- BTC / Realized Market Cap (USD)_lag_3\n",
        "\n",
        "we can also see that the maximum lag is 6 so our window size for buikding the model's dataset will be 6"
      ],
      "metadata": {
        "id": "n7yY6AhHYryj"
      }
    },
    {
      "cell_type": "markdown",
      "metadata": {
        "id": "_AF2AwJc57gx"
      },
      "source": [
        "**Exportation du dataframe :**"
      ]
    },
    {
      "cell_type": "code",
      "execution_count": null,
      "metadata": {
        "id": "VOda4Qhs590p"
      },
      "outputs": [],
      "source": [
        "df_selected_rfecv = df_final[['price_low' , 'price_high' , 'BTC / Val in Addrs w/ Bal ≥ 100 (native units)' , \n",
        "                       'BTC / Realized Market Cap (USD)' , 'BTC_price']]"
      ]
    },
    {
      "cell_type": "code",
      "execution_count": null,
      "metadata": {
        "colab": {
          "base_uri": "https://localhost:8080/",
          "height": 485
        },
        "id": "8hj0lBbn6H02",
        "outputId": "49688d20-c35a-4ced-b7eb-60f7a5874360"
      },
      "outputs": [
        {
          "output_type": "execute_result",
          "data": {
            "text/plain": [
              "      price_low  price_high  BTC / Val in Addrs w/ Bal ≥ 100 (native units)  \\\n",
              "11       340.00      340.00                                    9.221014e+06   \n",
              "12       340.00      340.00                                    9.223876e+06   \n",
              "13       340.00      340.00                                    9.235230e+06   \n",
              "14       340.00      340.00                                    9.238207e+06   \n",
              "15       340.00      340.00                                    9.241839e+06   \n",
              "...         ...         ...                                             ...   \n",
              "2651   44091.09    44820.58                                    1.196295e+07   \n",
              "2652   44437.22    46950.00                                    1.196435e+07   \n",
              "2653   46662.28    48240.00                                    1.196048e+07   \n",
              "2654   46589.00    48124.94                                    1.195196e+07   \n",
              "2655   46544.89    47717.01                                    1.195079e+07   \n",
              "\n",
              "      BTC / Realized Market Cap (USD)  BTC_price  \n",
              "11                       4.380329e+09     340.00  \n",
              "12                       4.370060e+09     340.00  \n",
              "13                       4.362259e+09     340.00  \n",
              "14                       4.354468e+09     340.00  \n",
              "15                       4.355354e+09     340.00  \n",
              "...                               ...        ...  \n",
              "2651                     4.637621e+11   44539.42  \n",
              "2652                     4.645012e+11   46850.01  \n",
              "2653                     4.657595e+11   47144.92  \n",
              "2654                     4.667479e+11   47454.19  \n",
              "2655                     4.671434e+11   47078.03  \n",
              "\n",
              "[2645 rows x 5 columns]"
            ],
            "text/html": [
              "\n",
              "  <div id=\"df-d0c0920f-6d43-41a3-a407-9ab9f09fceae\">\n",
              "    <div class=\"colab-df-container\">\n",
              "      <div>\n",
              "<style scoped>\n",
              "    .dataframe tbody tr th:only-of-type {\n",
              "        vertical-align: middle;\n",
              "    }\n",
              "\n",
              "    .dataframe tbody tr th {\n",
              "        vertical-align: top;\n",
              "    }\n",
              "\n",
              "    .dataframe thead th {\n",
              "        text-align: right;\n",
              "    }\n",
              "</style>\n",
              "<table border=\"1\" class=\"dataframe\">\n",
              "  <thead>\n",
              "    <tr style=\"text-align: right;\">\n",
              "      <th></th>\n",
              "      <th>price_low</th>\n",
              "      <th>price_high</th>\n",
              "      <th>BTC / Val in Addrs w/ Bal ≥ 100 (native units)</th>\n",
              "      <th>BTC / Realized Market Cap (USD)</th>\n",
              "      <th>BTC_price</th>\n",
              "    </tr>\n",
              "  </thead>\n",
              "  <tbody>\n",
              "    <tr>\n",
              "      <th>11</th>\n",
              "      <td>340.00</td>\n",
              "      <td>340.00</td>\n",
              "      <td>9.221014e+06</td>\n",
              "      <td>4.380329e+09</td>\n",
              "      <td>340.00</td>\n",
              "    </tr>\n",
              "    <tr>\n",
              "      <th>12</th>\n",
              "      <td>340.00</td>\n",
              "      <td>340.00</td>\n",
              "      <td>9.223876e+06</td>\n",
              "      <td>4.370060e+09</td>\n",
              "      <td>340.00</td>\n",
              "    </tr>\n",
              "    <tr>\n",
              "      <th>13</th>\n",
              "      <td>340.00</td>\n",
              "      <td>340.00</td>\n",
              "      <td>9.235230e+06</td>\n",
              "      <td>4.362259e+09</td>\n",
              "      <td>340.00</td>\n",
              "    </tr>\n",
              "    <tr>\n",
              "      <th>14</th>\n",
              "      <td>340.00</td>\n",
              "      <td>340.00</td>\n",
              "      <td>9.238207e+06</td>\n",
              "      <td>4.354468e+09</td>\n",
              "      <td>340.00</td>\n",
              "    </tr>\n",
              "    <tr>\n",
              "      <th>15</th>\n",
              "      <td>340.00</td>\n",
              "      <td>340.00</td>\n",
              "      <td>9.241839e+06</td>\n",
              "      <td>4.355354e+09</td>\n",
              "      <td>340.00</td>\n",
              "    </tr>\n",
              "    <tr>\n",
              "      <th>...</th>\n",
              "      <td>...</td>\n",
              "      <td>...</td>\n",
              "      <td>...</td>\n",
              "      <td>...</td>\n",
              "      <td>...</td>\n",
              "    </tr>\n",
              "    <tr>\n",
              "      <th>2651</th>\n",
              "      <td>44091.09</td>\n",
              "      <td>44820.58</td>\n",
              "      <td>1.196295e+07</td>\n",
              "      <td>4.637621e+11</td>\n",
              "      <td>44539.42</td>\n",
              "    </tr>\n",
              "    <tr>\n",
              "      <th>2652</th>\n",
              "      <td>44437.22</td>\n",
              "      <td>46950.00</td>\n",
              "      <td>1.196435e+07</td>\n",
              "      <td>4.645012e+11</td>\n",
              "      <td>46850.01</td>\n",
              "    </tr>\n",
              "    <tr>\n",
              "      <th>2653</th>\n",
              "      <td>46662.28</td>\n",
              "      <td>48240.00</td>\n",
              "      <td>1.196048e+07</td>\n",
              "      <td>4.657595e+11</td>\n",
              "      <td>47144.92</td>\n",
              "    </tr>\n",
              "    <tr>\n",
              "      <th>2654</th>\n",
              "      <td>46589.00</td>\n",
              "      <td>48124.94</td>\n",
              "      <td>1.195196e+07</td>\n",
              "      <td>4.667479e+11</td>\n",
              "      <td>47454.19</td>\n",
              "    </tr>\n",
              "    <tr>\n",
              "      <th>2655</th>\n",
              "      <td>46544.89</td>\n",
              "      <td>47717.01</td>\n",
              "      <td>1.195079e+07</td>\n",
              "      <td>4.671434e+11</td>\n",
              "      <td>47078.03</td>\n",
              "    </tr>\n",
              "  </tbody>\n",
              "</table>\n",
              "<p>2645 rows × 5 columns</p>\n",
              "</div>\n",
              "      <button class=\"colab-df-convert\" onclick=\"convertToInteractive('df-d0c0920f-6d43-41a3-a407-9ab9f09fceae')\"\n",
              "              title=\"Convert this dataframe to an interactive table.\"\n",
              "              style=\"display:none;\">\n",
              "        \n",
              "  <svg xmlns=\"http://www.w3.org/2000/svg\" height=\"24px\"viewBox=\"0 0 24 24\"\n",
              "       width=\"24px\">\n",
              "    <path d=\"M0 0h24v24H0V0z\" fill=\"none\"/>\n",
              "    <path d=\"M18.56 5.44l.94 2.06.94-2.06 2.06-.94-2.06-.94-.94-2.06-.94 2.06-2.06.94zm-11 1L8.5 8.5l.94-2.06 2.06-.94-2.06-.94L8.5 2.5l-.94 2.06-2.06.94zm10 10l.94 2.06.94-2.06 2.06-.94-2.06-.94-.94-2.06-.94 2.06-2.06.94z\"/><path d=\"M17.41 7.96l-1.37-1.37c-.4-.4-.92-.59-1.43-.59-.52 0-1.04.2-1.43.59L10.3 9.45l-7.72 7.72c-.78.78-.78 2.05 0 2.83L4 21.41c.39.39.9.59 1.41.59.51 0 1.02-.2 1.41-.59l7.78-7.78 2.81-2.81c.8-.78.8-2.07 0-2.86zM5.41 20L4 18.59l7.72-7.72 1.47 1.35L5.41 20z\"/>\n",
              "  </svg>\n",
              "      </button>\n",
              "      \n",
              "  <style>\n",
              "    .colab-df-container {\n",
              "      display:flex;\n",
              "      flex-wrap:wrap;\n",
              "      gap: 12px;\n",
              "    }\n",
              "\n",
              "    .colab-df-convert {\n",
              "      background-color: #E8F0FE;\n",
              "      border: none;\n",
              "      border-radius: 50%;\n",
              "      cursor: pointer;\n",
              "      display: none;\n",
              "      fill: #1967D2;\n",
              "      height: 32px;\n",
              "      padding: 0 0 0 0;\n",
              "      width: 32px;\n",
              "    }\n",
              "\n",
              "    .colab-df-convert:hover {\n",
              "      background-color: #E2EBFA;\n",
              "      box-shadow: 0px 1px 2px rgba(60, 64, 67, 0.3), 0px 1px 3px 1px rgba(60, 64, 67, 0.15);\n",
              "      fill: #174EA6;\n",
              "    }\n",
              "\n",
              "    [theme=dark] .colab-df-convert {\n",
              "      background-color: #3B4455;\n",
              "      fill: #D2E3FC;\n",
              "    }\n",
              "\n",
              "    [theme=dark] .colab-df-convert:hover {\n",
              "      background-color: #434B5C;\n",
              "      box-shadow: 0px 1px 3px 1px rgba(0, 0, 0, 0.15);\n",
              "      filter: drop-shadow(0px 1px 2px rgba(0, 0, 0, 0.3));\n",
              "      fill: #FFFFFF;\n",
              "    }\n",
              "  </style>\n",
              "\n",
              "      <script>\n",
              "        const buttonEl =\n",
              "          document.querySelector('#df-d0c0920f-6d43-41a3-a407-9ab9f09fceae button.colab-df-convert');\n",
              "        buttonEl.style.display =\n",
              "          google.colab.kernel.accessAllowed ? 'block' : 'none';\n",
              "\n",
              "        async function convertToInteractive(key) {\n",
              "          const element = document.querySelector('#df-d0c0920f-6d43-41a3-a407-9ab9f09fceae');\n",
              "          const dataTable =\n",
              "            await google.colab.kernel.invokeFunction('convertToInteractive',\n",
              "                                                     [key], {});\n",
              "          if (!dataTable) return;\n",
              "\n",
              "          const docLinkHtml = 'Like what you see? Visit the ' +\n",
              "            '<a target=\"_blank\" href=https://colab.research.google.com/notebooks/data_table.ipynb>data table notebook</a>'\n",
              "            + ' to learn more about interactive tables.';\n",
              "          element.innerHTML = '';\n",
              "          dataTable['output_type'] = 'display_data';\n",
              "          await google.colab.output.renderOutput(dataTable, element);\n",
              "          const docLink = document.createElement('div');\n",
              "          docLink.innerHTML = docLinkHtml;\n",
              "          element.appendChild(docLink);\n",
              "        }\n",
              "      </script>\n",
              "    </div>\n",
              "  </div>\n",
              "  "
            ]
          },
          "metadata": {},
          "execution_count": 108
        }
      ],
      "source": [
        "df_selected_rfecv"
      ]
    },
    {
      "cell_type": "code",
      "execution_count": null,
      "metadata": {
        "colab": {
          "base_uri": "https://localhost:8080/",
          "height": 17
        },
        "id": "S-Nb_rs56TQ6",
        "outputId": "da907080-266e-451a-984c-fe834b8722aa"
      },
      "outputs": [
        {
          "output_type": "display_data",
          "data": {
            "text/plain": [
              "<IPython.core.display.Javascript object>"
            ],
            "application/javascript": [
              "\n",
              "    async function download(id, filename, size) {\n",
              "      if (!google.colab.kernel.accessAllowed) {\n",
              "        return;\n",
              "      }\n",
              "      const div = document.createElement('div');\n",
              "      const label = document.createElement('label');\n",
              "      label.textContent = `Downloading \"${filename}\": `;\n",
              "      div.appendChild(label);\n",
              "      const progress = document.createElement('progress');\n",
              "      progress.max = size;\n",
              "      div.appendChild(progress);\n",
              "      document.body.appendChild(div);\n",
              "\n",
              "      const buffers = [];\n",
              "      let downloaded = 0;\n",
              "\n",
              "      const channel = await google.colab.kernel.comms.open(id);\n",
              "      // Send a message to notify the kernel that we're ready.\n",
              "      channel.send({})\n",
              "\n",
              "      for await (const message of channel.messages) {\n",
              "        // Send a message to notify the kernel that we're ready.\n",
              "        channel.send({})\n",
              "        if (message.buffers) {\n",
              "          for (const buffer of message.buffers) {\n",
              "            buffers.push(buffer);\n",
              "            downloaded += buffer.byteLength;\n",
              "            progress.value = downloaded;\n",
              "          }\n",
              "        }\n",
              "      }\n",
              "      const blob = new Blob(buffers, {type: 'application/binary'});\n",
              "      const a = document.createElement('a');\n",
              "      a.href = window.URL.createObjectURL(blob);\n",
              "      a.download = filename;\n",
              "      div.appendChild(a);\n",
              "      a.click();\n",
              "      div.remove();\n",
              "    }\n",
              "  "
            ]
          },
          "metadata": {}
        },
        {
          "output_type": "display_data",
          "data": {
            "text/plain": [
              "<IPython.core.display.Javascript object>"
            ],
            "application/javascript": [
              "download(\"download_1c7247f4-2f4f-4bd6-a16b-75d323bd9cd6\", \"btc_final_RFE-CV.csv\", 166953)"
            ]
          },
          "metadata": {}
        }
      ],
      "source": [
        "df_selected_rfecv.to_csv(\"btc_final_RFE-CV.csv\")\n",
        "files.download(\"btc_final_RFE-CV.csv\")"
      ]
    }
  ],
  "metadata": {
    "colab": {
      "collapsed_sections": [],
      "machine_shape": "hm",
      "provenance": []
    },
    "kernelspec": {
      "display_name": "Python 3",
      "name": "python3"
    },
    "language_info": {
      "name": "python"
    }
  },
  "nbformat": 4,
  "nbformat_minor": 0
}